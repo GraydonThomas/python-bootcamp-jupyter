{
 "cells": [
  {
   "cell_type": "code",
   "execution_count": 1,
   "id": "8cb47ce6",
   "metadata": {},
   "outputs": [],
   "source": [
    "# datetime module - info on date, time, timezones, time elapsed, etc.\n",
    "import datetime"
   ]
  },
  {
   "cell_type": "code",
   "execution_count": 9,
   "id": "4db44dc1",
   "metadata": {},
   "outputs": [],
   "source": [
    "mytime = datetime.time(13,20,1,20) # time([hour[, minute[, second[, microsecond[, tzinfo]]]]]) --> a time object"
   ]
  },
  {
   "cell_type": "code",
   "execution_count": 10,
   "id": "e0928b69",
   "metadata": {},
   "outputs": [
    {
     "data": {
      "text/plain": [
       "20"
      ]
     },
     "execution_count": 10,
     "metadata": {},
     "output_type": "execute_result"
    }
   ],
   "source": [
    "mytime.minute"
   ]
  },
  {
   "cell_type": "code",
   "execution_count": 11,
   "id": "c48d8951",
   "metadata": {},
   "outputs": [
    {
     "data": {
      "text/plain": [
       "13"
      ]
     },
     "execution_count": 11,
     "metadata": {},
     "output_type": "execute_result"
    }
   ],
   "source": [
    "mytime.hour"
   ]
  },
  {
   "cell_type": "code",
   "execution_count": 12,
   "id": "ddbf06c0",
   "metadata": {},
   "outputs": [
    {
     "name": "stdout",
     "output_type": "stream",
     "text": [
      "13:20:01.000020\n"
     ]
    }
   ],
   "source": [
    "print(mytime)"
   ]
  },
  {
   "cell_type": "code",
   "execution_count": 13,
   "id": "3fbba2ff",
   "metadata": {},
   "outputs": [
    {
     "data": {
      "text/plain": [
       "datetime.time"
      ]
     },
     "execution_count": 13,
     "metadata": {},
     "output_type": "execute_result"
    }
   ],
   "source": [
    "type(mytime)"
   ]
  },
  {
   "cell_type": "code",
   "execution_count": 14,
   "id": "94bea4d8",
   "metadata": {},
   "outputs": [],
   "source": [
    "today = datetime.date.today() # date(year, month, day) --> date object"
   ]
  },
  {
   "cell_type": "code",
   "execution_count": 15,
   "id": "e4b61b0e",
   "metadata": {},
   "outputs": [
    {
     "name": "stdout",
     "output_type": "stream",
     "text": [
      "2022-09-15\n"
     ]
    }
   ],
   "source": [
    "print(today)"
   ]
  },
  {
   "cell_type": "code",
   "execution_count": 16,
   "id": "1648013c",
   "metadata": {},
   "outputs": [
    {
     "data": {
      "text/plain": [
       "9"
      ]
     },
     "execution_count": 16,
     "metadata": {},
     "output_type": "execute_result"
    }
   ],
   "source": [
    "today.month"
   ]
  },
  {
   "cell_type": "code",
   "execution_count": 17,
   "id": "96655ca4",
   "metadata": {},
   "outputs": [
    {
     "data": {
      "text/plain": [
       "15"
      ]
     },
     "execution_count": 17,
     "metadata": {},
     "output_type": "execute_result"
    }
   ],
   "source": [
    "today.day"
   ]
  },
  {
   "cell_type": "code",
   "execution_count": 18,
   "id": "293bb92b",
   "metadata": {},
   "outputs": [
    {
     "data": {
      "text/plain": [
       "'Thu Sep 15 00:00:00 2022'"
      ]
     },
     "execution_count": 18,
     "metadata": {},
     "output_type": "execute_result"
    }
   ],
   "source": [
    "today.ctime()"
   ]
  },
  {
   "cell_type": "code",
   "execution_count": 19,
   "id": "97d7c828",
   "metadata": {},
   "outputs": [],
   "source": [
    "from datetime import datetime # combines date and time information"
   ]
  },
  {
   "cell_type": "code",
   "execution_count": 24,
   "id": "35c1b956",
   "metadata": {},
   "outputs": [],
   "source": [
    "mydatetime = datetime(2021,10,3,14,20,1)"
   ]
  },
  {
   "cell_type": "code",
   "execution_count": 25,
   "id": "4b1beb13",
   "metadata": {},
   "outputs": [
    {
     "name": "stdout",
     "output_type": "stream",
     "text": [
      "2021-10-03 14:20:01\n"
     ]
    }
   ],
   "source": [
    "print(mydatetime)"
   ]
  },
  {
   "cell_type": "code",
   "execution_count": 26,
   "id": "3c884aa2",
   "metadata": {},
   "outputs": [
    {
     "data": {
      "text/plain": [
       "datetime.datetime(2020, 10, 3, 14, 20, 1)"
      ]
     },
     "execution_count": 26,
     "metadata": {},
     "output_type": "execute_result"
    }
   ],
   "source": [
    "mydatetime.replace(year=2020)"
   ]
  },
  {
   "cell_type": "code",
   "execution_count": 27,
   "id": "a3ce22b1",
   "metadata": {},
   "outputs": [
    {
     "name": "stdout",
     "output_type": "stream",
     "text": [
      "2021-10-03 14:20:01\n"
     ]
    }
   ],
   "source": [
    "print(mydatetime)"
   ]
  },
  {
   "cell_type": "code",
   "execution_count": 28,
   "id": "46162f09",
   "metadata": {},
   "outputs": [],
   "source": [
    "from datetime import date # simply provides date info only without time"
   ]
  },
  {
   "cell_type": "code",
   "execution_count": 29,
   "id": "11eb12c4",
   "metadata": {},
   "outputs": [],
   "source": [
    "date1 = date(2023,11,3)\n",
    "date2 = date(2022,11,3)"
   ]
  },
  {
   "cell_type": "code",
   "execution_count": 31,
   "id": "b9c98134",
   "metadata": {},
   "outputs": [],
   "source": [
    "result = date1 - date2"
   ]
  },
  {
   "cell_type": "code",
   "execution_count": 32,
   "id": "a01ae07f",
   "metadata": {},
   "outputs": [
    {
     "data": {
      "text/plain": [
       "datetime.timedelta"
      ]
     },
     "execution_count": 32,
     "metadata": {},
     "output_type": "execute_result"
    }
   ],
   "source": [
    "type(result)"
   ]
  },
  {
   "cell_type": "code",
   "execution_count": 34,
   "id": "28d132e2",
   "metadata": {},
   "outputs": [],
   "source": [
    "datetime1 = datetime(2023,11,3,22,0)\n",
    "datetime2 = datetime(2022,11,3,12,0)"
   ]
  },
  {
   "cell_type": "code",
   "execution_count": 36,
   "id": "6e8268fc",
   "metadata": {},
   "outputs": [],
   "source": [
    "mydiff = datetime1 - datetime2"
   ]
  },
  {
   "cell_type": "code",
   "execution_count": 37,
   "id": "8c335ddf",
   "metadata": {},
   "outputs": [
    {
     "data": {
      "text/plain": [
       "36000"
      ]
     },
     "execution_count": 37,
     "metadata": {},
     "output_type": "execute_result"
    }
   ],
   "source": [
    "mydiff.seconds"
   ]
  },
  {
   "cell_type": "code",
   "execution_count": 40,
   "id": "fe11f5d6",
   "metadata": {},
   "outputs": [
    {
     "data": {
      "text/plain": [
       "31572000.0"
      ]
     },
     "execution_count": 40,
     "metadata": {},
     "output_type": "execute_result"
    }
   ],
   "source": [
    "mydiff.total_seconds()"
   ]
  },
  {
   "cell_type": "code",
   "execution_count": null,
   "id": "373d1c05",
   "metadata": {},
   "outputs": [],
   "source": []
  }
 ],
 "metadata": {
  "kernelspec": {
   "display_name": "Python 3 (ipykernel)",
   "language": "python",
   "name": "python3"
  },
  "language_info": {
   "codemirror_mode": {
    "name": "ipython",
    "version": 3
   },
   "file_extension": ".py",
   "mimetype": "text/x-python",
   "name": "python",
   "nbconvert_exporter": "python",
   "pygments_lexer": "ipython3",
   "version": "3.9.12"
  }
 },
 "nbformat": 4,
 "nbformat_minor": 5
}
