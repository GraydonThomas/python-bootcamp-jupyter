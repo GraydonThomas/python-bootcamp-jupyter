{
 "cells": [
  {
   "cell_type": "code",
   "execution_count": 1,
   "id": "338f69a8",
   "metadata": {},
   "outputs": [],
   "source": [
    "# Time your code's performance to determine the most efficient method \n",
    "# when having multiple solutions to the same problem"
   ]
  },
  {
   "cell_type": "code",
   "execution_count": 2,
   "id": "4387c623",
   "metadata": {},
   "outputs": [],
   "source": [
    "def func_one(n):\n",
    "    return [str(num) for num in range(n)]"
   ]
  },
  {
   "cell_type": "code",
   "execution_count": 3,
   "id": "404da271",
   "metadata": {},
   "outputs": [
    {
     "data": {
      "text/plain": [
       "['0', '1', '2', '3', '4', '5', '6', '7', '8', '9']"
      ]
     },
     "execution_count": 3,
     "metadata": {},
     "output_type": "execute_result"
    }
   ],
   "source": [
    "func_one(10)"
   ]
  },
  {
   "cell_type": "code",
   "execution_count": 4,
   "id": "26ecdd03",
   "metadata": {},
   "outputs": [],
   "source": [
    "def func_two(n):\n",
    "    return list(map(str,range(n)))"
   ]
  },
  {
   "cell_type": "code",
   "execution_count": 5,
   "id": "4c1f2fec",
   "metadata": {},
   "outputs": [
    {
     "data": {
      "text/plain": [
       "['0', '1', '2', '3', '4', '5', '6', '7', '8', '9']"
      ]
     },
     "execution_count": 5,
     "metadata": {},
     "output_type": "execute_result"
    }
   ],
   "source": [
    "func_two(10)"
   ]
  },
  {
   "cell_type": "code",
   "execution_count": 6,
   "id": "c856bab9",
   "metadata": {},
   "outputs": [],
   "source": [
    "import time"
   ]
  },
  {
   "cell_type": "code",
   "execution_count": 7,
   "id": "07eabd38",
   "metadata": {},
   "outputs": [
    {
     "name": "stdout",
     "output_type": "stream",
     "text": [
      "0.13887596130371094\n"
     ]
    }
   ],
   "source": [
    "# Current time before running code\n",
    "start_time = time.time()\n",
    "\n",
    "# run code\n",
    "result = func_one(1000000)\n",
    "\n",
    "# current time after running code\n",
    "end_time = time.time()\n",
    "\n",
    "# calculate elapsed time\n",
    "elapsed_time = end_time - start_time\n",
    "\n",
    "print(elapsed_time)"
   ]
  },
  {
   "cell_type": "code",
   "execution_count": 8,
   "id": "6ab15233",
   "metadata": {},
   "outputs": [
    {
     "name": "stdout",
     "output_type": "stream",
     "text": [
      "0.1225121021270752\n"
     ]
    }
   ],
   "source": [
    "# Current time before running code\n",
    "start_time = time.time()\n",
    "\n",
    "# run code\n",
    "result = func_two(1000000)\n",
    "\n",
    "# current time after running code\n",
    "end_time = time.time()\n",
    "\n",
    "# calculate elapsed time\n",
    "elapsed_time = end_time - start_time\n",
    "\n",
    "print(elapsed_time)"
   ]
  },
  {
   "cell_type": "code",
   "execution_count": 9,
   "id": "6347727f",
   "metadata": {},
   "outputs": [],
   "source": [
    "# if the function is too quick, it may result in no (or inaccurate) elapsed time"
   ]
  },
  {
   "cell_type": "code",
   "execution_count": 11,
   "id": "3035f642",
   "metadata": {},
   "outputs": [
    {
     "name": "stdout",
     "output_type": "stream",
     "text": [
      "0.0\n"
     ]
    }
   ],
   "source": [
    "# Current time before running code\n",
    "start_time = time.time()\n",
    "\n",
    "# run code\n",
    "result = func_one(10)\n",
    "\n",
    "# current time after running code\n",
    "end_time = time.time()\n",
    "\n",
    "# calculate elapsed time\n",
    "elapsed_time = end_time - start_time\n",
    "\n",
    "print(elapsed_time)"
   ]
  },
  {
   "cell_type": "code",
   "execution_count": 12,
   "id": "6be89d55",
   "metadata": {},
   "outputs": [
    {
     "name": "stdout",
     "output_type": "stream",
     "text": [
      "0.0\n"
     ]
    }
   ],
   "source": [
    "# Current time before running code\n",
    "start_time = time.time()\n",
    "\n",
    "# run code\n",
    "result = func_two(10)\n",
    "\n",
    "# current time after running code\n",
    "end_time = time.time()\n",
    "\n",
    "# calculate elapsed time\n",
    "elapsed_time = end_time - start_time\n",
    "\n",
    "print(elapsed_time)"
   ]
  },
  {
   "cell_type": "code",
   "execution_count": 13,
   "id": "7e5fb5bf",
   "metadata": {},
   "outputs": [],
   "source": [
    "# can also use timit module\n",
    "import timeit"
   ]
  },
  {
   "cell_type": "code",
   "execution_count": 19,
   "id": "f3388b08",
   "metadata": {},
   "outputs": [],
   "source": [
    "stmt = \"\"\"\n",
    "func_one(10)\n",
    "\"\"\""
   ]
  },
  {
   "cell_type": "code",
   "execution_count": 15,
   "id": "c194d634",
   "metadata": {},
   "outputs": [],
   "source": [
    "setup = \"\"\"\n",
    "def func_one(n):\n",
    "    return [str(num) for num in range(n)]\n",
    "\"\"\""
   ]
  },
  {
   "cell_type": "code",
   "execution_count": 23,
   "id": "ad9938c8",
   "metadata": {},
   "outputs": [
    {
     "data": {
      "text/plain": [
       "12.566736399999968"
      ]
     },
     "execution_count": 23,
     "metadata": {},
     "output_type": "execute_result"
    }
   ],
   "source": [
    "timeit.timeit(stmt,setup,number=10000000)"
   ]
  },
  {
   "cell_type": "code",
   "execution_count": 18,
   "id": "57fcb4a8",
   "metadata": {},
   "outputs": [],
   "source": [
    "stmt2 = \"\"\"\n",
    "func_two(10)\n",
    "\"\"\""
   ]
  },
  {
   "cell_type": "code",
   "execution_count": 20,
   "id": "f8c378a2",
   "metadata": {},
   "outputs": [],
   "source": [
    "setup2 = \"\"\"\n",
    "def func_two(n):\n",
    "    return list(map(str,range(n)))\n",
    "\"\"\""
   ]
  },
  {
   "cell_type": "code",
   "execution_count": 24,
   "id": "25cc6ab2",
   "metadata": {},
   "outputs": [
    {
     "data": {
      "text/plain": [
       "10.921208400000069"
      ]
     },
     "execution_count": 24,
     "metadata": {},
     "output_type": "execute_result"
    }
   ],
   "source": [
    "timeit.timeit(stmt2,setup2,number=10000000)"
   ]
  },
  {
   "cell_type": "code",
   "execution_count": 25,
   "id": "2c20cb80",
   "metadata": {},
   "outputs": [],
   "source": [
    "# Python has its own method: %%timeit"
   ]
  },
  {
   "cell_type": "code",
   "execution_count": 26,
   "id": "a5f34a25",
   "metadata": {},
   "outputs": [
    {
     "name": "stdout",
     "output_type": "stream",
     "text": [
      "10.9 µs ± 83.4 ns per loop (mean ± std. dev. of 7 runs, 100,000 loops each)\n"
     ]
    }
   ],
   "source": [
    "%%timeit\n",
    "func_one(100)"
   ]
  },
  {
   "cell_type": "code",
   "execution_count": 27,
   "id": "c0fd0515",
   "metadata": {},
   "outputs": [
    {
     "name": "stdout",
     "output_type": "stream",
     "text": [
      "9.41 µs ± 50.1 ns per loop (mean ± std. dev. of 7 runs, 100,000 loops each)\n"
     ]
    }
   ],
   "source": [
    "%%timeit\n",
    "func_two(100)"
   ]
  },
  {
   "cell_type": "code",
   "execution_count": null,
   "id": "e5d43ff7",
   "metadata": {},
   "outputs": [],
   "source": []
  }
 ],
 "metadata": {
  "kernelspec": {
   "display_name": "Python 3 (ipykernel)",
   "language": "python",
   "name": "python3"
  },
  "language_info": {
   "codemirror_mode": {
    "name": "ipython",
    "version": 3
   },
   "file_extension": ".py",
   "mimetype": "text/x-python",
   "name": "python",
   "nbconvert_exporter": "python",
   "pygments_lexer": "ipython3",
   "version": "3.9.12"
  }
 },
 "nbformat": 4,
 "nbformat_minor": 5
}
