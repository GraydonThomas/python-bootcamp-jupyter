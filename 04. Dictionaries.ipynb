{
 "cells": [
  {
   "cell_type": "code",
   "execution_count": 2,
   "id": "21c2e315",
   "metadata": {},
   "outputs": [],
   "source": [
    "my_dict = {\"key1\":\"value1\",\"key2\":\"value2\"}"
   ]
  },
  {
   "cell_type": "code",
   "execution_count": 3,
   "id": "30aeb4fe",
   "metadata": {},
   "outputs": [
    {
     "data": {
      "text/plain": [
       "'value1'"
      ]
     },
     "execution_count": 3,
     "metadata": {},
     "output_type": "execute_result"
    }
   ],
   "source": [
    "my_dict[\"key1\"]"
   ]
  },
  {
   "cell_type": "code",
   "execution_count": 4,
   "id": "97535e1e",
   "metadata": {},
   "outputs": [],
   "source": [
    "prices_lookup = {\"apple\":0.99, \"orange\":1.99, \"steak\":{\"big\":9.99,\"small\":6.99}}"
   ]
  },
  {
   "cell_type": "code",
   "execution_count": 5,
   "id": "cf1b2e0d",
   "metadata": {},
   "outputs": [
    {
     "data": {
      "text/plain": [
       "9.99"
      ]
     },
     "execution_count": 5,
     "metadata": {},
     "output_type": "execute_result"
    }
   ],
   "source": [
    "prices_lookup[\"steak\"][\"big\"]"
   ]
  },
  {
   "cell_type": "code",
   "execution_count": 6,
   "id": "2357f7fc",
   "metadata": {},
   "outputs": [],
   "source": [
    "steaks = prices_lookup[\"steak\"]"
   ]
  },
  {
   "cell_type": "code",
   "execution_count": 7,
   "id": "95c9a905",
   "metadata": {},
   "outputs": [
    {
     "data": {
      "text/plain": [
       "{'big': 9.99, 'small': 6.99}"
      ]
     },
     "execution_count": 7,
     "metadata": {},
     "output_type": "execute_result"
    }
   ],
   "source": [
    "steaks"
   ]
  },
  {
   "cell_type": "code",
   "execution_count": 8,
   "id": "2c749fac",
   "metadata": {},
   "outputs": [],
   "source": [
    "big_steak = steaks[\"big\"]"
   ]
  },
  {
   "cell_type": "code",
   "execution_count": 9,
   "id": "b1f8bbe5",
   "metadata": {},
   "outputs": [],
   "source": [
    "small_steak = steaks[\"small\"]"
   ]
  },
  {
   "cell_type": "code",
   "execution_count": 10,
   "id": "93a8dfd1",
   "metadata": {},
   "outputs": [
    {
     "data": {
      "text/plain": [
       "9.99"
      ]
     },
     "execution_count": 10,
     "metadata": {},
     "output_type": "execute_result"
    }
   ],
   "source": [
    "big_steak"
   ]
  },
  {
   "cell_type": "code",
   "execution_count": 11,
   "id": "4a4e9928",
   "metadata": {},
   "outputs": [],
   "source": [
    "prices_lookup[\"steak\"][\"big\"] = 8.99"
   ]
  },
  {
   "cell_type": "code",
   "execution_count": 12,
   "id": "54950d00",
   "metadata": {},
   "outputs": [
    {
     "data": {
      "text/plain": [
       "{'apple': 0.99, 'orange': 1.99, 'steak': {'big': 8.99, 'small': 6.99}}"
      ]
     },
     "execution_count": 12,
     "metadata": {},
     "output_type": "execute_result"
    }
   ],
   "source": [
    "prices_lookup"
   ]
  },
  {
   "cell_type": "code",
   "execution_count": 13,
   "id": "03036fe0",
   "metadata": {},
   "outputs": [],
   "source": [
    "prices_lookup[\"potato\"] = 4.99"
   ]
  },
  {
   "cell_type": "code",
   "execution_count": 14,
   "id": "b6ab58d9",
   "metadata": {},
   "outputs": [
    {
     "data": {
      "text/plain": [
       "{'apple': 0.99,\n",
       " 'orange': 1.99,\n",
       " 'steak': {'big': 8.99, 'small': 6.99},\n",
       " 'potato': 4.99}"
      ]
     },
     "execution_count": 14,
     "metadata": {},
     "output_type": "execute_result"
    }
   ],
   "source": [
    "prices_lookup"
   ]
  },
  {
   "cell_type": "code",
   "execution_count": 16,
   "id": "272fddc5",
   "metadata": {},
   "outputs": [
    {
     "data": {
      "text/plain": [
       "dict_keys(['apple', 'orange', 'steak', 'potato'])"
      ]
     },
     "execution_count": 16,
     "metadata": {},
     "output_type": "execute_result"
    }
   ],
   "source": [
    "prices_lookup.keys()"
   ]
  },
  {
   "cell_type": "code",
   "execution_count": 17,
   "id": "14805b6c",
   "metadata": {},
   "outputs": [
    {
     "data": {
      "text/plain": [
       "dict_values([0.99, 1.99, {'big': 8.99, 'small': 6.99}, 4.99])"
      ]
     },
     "execution_count": 17,
     "metadata": {},
     "output_type": "execute_result"
    }
   ],
   "source": [
    "prices_lookup.values()"
   ]
  },
  {
   "cell_type": "code",
   "execution_count": 18,
   "id": "3050adda",
   "metadata": {},
   "outputs": [
    {
     "data": {
      "text/plain": [
       "dict_items([('apple', 0.99), ('orange', 1.99), ('steak', {'big': 8.99, 'small': 6.99}), ('potato', 4.99)])"
      ]
     },
     "execution_count": 18,
     "metadata": {},
     "output_type": "execute_result"
    }
   ],
   "source": [
    "prices_lookup.items()"
   ]
  },
  {
   "cell_type": "code",
   "execution_count": null,
   "id": "52aeae8a",
   "metadata": {},
   "outputs": [],
   "source": []
  }
 ],
 "metadata": {
  "kernelspec": {
   "display_name": "Python 3 (ipykernel)",
   "language": "python",
   "name": "python3"
  },
  "language_info": {
   "codemirror_mode": {
    "name": "ipython",
    "version": 3
   },
   "file_extension": ".py",
   "mimetype": "text/x-python",
   "name": "python",
   "nbconvert_exporter": "python",
   "pygments_lexer": "ipython3",
   "version": "3.9.12"
  }
 },
 "nbformat": 4,
 "nbformat_minor": 5
}
