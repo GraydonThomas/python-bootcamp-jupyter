{
 "cells": [
  {
   "cell_type": "code",
   "execution_count": 15,
   "id": "8c79f574",
   "metadata": {},
   "outputs": [
    {
     "name": "stdout",
     "output_type": "stream",
     "text": [
      "Please tell me where you are: monkeyland\n",
      "I don't know where that is...\n"
     ]
    }
   ],
   "source": [
    "loc = input(\"Please tell me where you are: \")\n",
    "loc = loc.upper()\n",
    "\n",
    "if loc == \"STORE\":\n",
    "    print(\"Welcome to the store!\")\n",
    "elif loc == \"GARAGE\":\n",
    "    print(\"Welcome to the garage!\")\n",
    "elif loc == \"HOME\":\n",
    "    print(\"Welcome home!\")\n",
    "else:\n",
    "    print(\"I don't know where that is...\")\n"
   ]
  },
  {
   "cell_type": "code",
   "execution_count": 13,
   "id": "af95eb0b",
   "metadata": {},
   "outputs": [
    {
     "name": "stdout",
     "output_type": "stream",
     "text": [
      "GARAGE\n"
     ]
    }
   ],
   "source": [
    "loc = loc.upper()\n",
    "print(loc)"
   ]
  },
  {
   "cell_type": "code",
   "execution_count": null,
   "id": "69860f4e",
   "metadata": {},
   "outputs": [],
   "source": []
  }
 ],
 "metadata": {
  "kernelspec": {
   "display_name": "Python 3 (ipykernel)",
   "language": "python",
   "name": "python3"
  },
  "language_info": {
   "codemirror_mode": {
    "name": "ipython",
    "version": 3
   },
   "file_extension": ".py",
   "mimetype": "text/x-python",
   "name": "python",
   "nbconvert_exporter": "python",
   "pygments_lexer": "ipython3",
   "version": "3.9.12"
  }
 },
 "nbformat": 4,
 "nbformat_minor": 5
}
