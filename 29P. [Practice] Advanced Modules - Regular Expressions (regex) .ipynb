{
 "cells": [
  {
   "cell_type": "code",
   "execution_count": 4,
   "id": "ef25a6e1",
   "metadata": {},
   "outputs": [],
   "source": [
    "# Some rough practice work\n",
    "import re"
   ]
  },
  {
   "cell_type": "code",
   "execution_count": 3,
   "id": "d190e934",
   "metadata": {},
   "outputs": [],
   "source": [
    "my_string = \"Hello I am sitting at my computer, learning Python! The year is 2022. How are you?\""
   ]
  },
  {
   "cell_type": "code",
   "execution_count": 5,
   "id": "2d3948cc",
   "metadata": {},
   "outputs": [],
   "source": [
    "punc_pattern = r\"[^,.!? ]+\""
   ]
  },
  {
   "cell_type": "code",
   "execution_count": 6,
   "id": "4d39a71d",
   "metadata": {},
   "outputs": [],
   "source": [
    "num_pattern = r\"[^\\d]+\""
   ]
  },
  {
   "cell_type": "code",
   "execution_count": 7,
   "id": "e0c16501",
   "metadata": {},
   "outputs": [],
   "source": [
    "word_pattern = r\"[^\\D]\""
   ]
  },
  {
   "cell_type": "code",
   "execution_count": 8,
   "id": "488d073e",
   "metadata": {},
   "outputs": [
    {
     "data": {
      "text/plain": [
       "['Hello',\n",
       " 'I',\n",
       " 'am',\n",
       " 'sitting',\n",
       " 'at',\n",
       " 'my',\n",
       " 'computer',\n",
       " 'learning',\n",
       " 'Python',\n",
       " 'The',\n",
       " 'year',\n",
       " 'is',\n",
       " '2022']"
      ]
     },
     "execution_count": 8,
     "metadata": {},
     "output_type": "execute_result"
    }
   ],
   "source": [
    "re.findall(punc_pattern, my_string)"
   ]
  },
  {
   "cell_type": "code",
   "execution_count": 12,
   "id": "35b38209",
   "metadata": {},
   "outputs": [],
   "source": [
    "nopunc_string = \" \".join(re.findall(punc_pattern,my_string))"
   ]
  },
  {
   "cell_type": "code",
   "execution_count": 13,
   "id": "5ac4e646",
   "metadata": {},
   "outputs": [
    {
     "data": {
      "text/plain": [
       "'Hello I am sitting at my computer learning Python The year is 2022'"
      ]
     },
     "execution_count": 13,
     "metadata": {},
     "output_type": "execute_result"
    }
   ],
   "source": [
    "nopunc_string"
   ]
  },
  {
   "cell_type": "code",
   "execution_count": 14,
   "id": "0bc6291c",
   "metadata": {},
   "outputs": [
    {
     "data": {
      "text/plain": [
       "['Hello I am sitting at my computer, learning Python! The year is ', '.']"
      ]
     },
     "execution_count": 14,
     "metadata": {},
     "output_type": "execute_result"
    }
   ],
   "source": [
    "re.findall(num_pattern, my_string)"
   ]
  },
  {
   "cell_type": "code",
   "execution_count": 15,
   "id": "f7014a38",
   "metadata": {},
   "outputs": [],
   "source": [
    "nonum_string = \" \".join(re.findall(num_pattern, my_string))"
   ]
  },
  {
   "cell_type": "code",
   "execution_count": 16,
   "id": "da21262a",
   "metadata": {},
   "outputs": [
    {
     "data": {
      "text/plain": [
       "'Hello I am sitting at my computer, learning Python! The year is  .'"
      ]
     },
     "execution_count": 16,
     "metadata": {},
     "output_type": "execute_result"
    }
   ],
   "source": [
    "nonum_string"
   ]
  },
  {
   "cell_type": "code",
   "execution_count": 17,
   "id": "eb9e4761",
   "metadata": {},
   "outputs": [],
   "source": [
    "noword_string = \" \".join(re.findall(word_pattern, my_string))"
   ]
  },
  {
   "cell_type": "code",
   "execution_count": 18,
   "id": "b4ce820c",
   "metadata": {},
   "outputs": [
    {
     "data": {
      "text/plain": [
       "'2 0 2 2'"
      ]
     },
     "execution_count": 18,
     "metadata": {},
     "output_type": "execute_result"
    }
   ],
   "source": [
    "noword_string"
   ]
  },
  {
   "cell_type": "code",
   "execution_count": null,
   "id": "e7e17d12",
   "metadata": {},
   "outputs": [],
   "source": []
  }
 ],
 "metadata": {
  "kernelspec": {
   "display_name": "Python 3 (ipykernel)",
   "language": "python",
   "name": "python3"
  },
  "language_info": {
   "codemirror_mode": {
    "name": "ipython",
    "version": 3
   },
   "file_extension": ".py",
   "mimetype": "text/x-python",
   "name": "python",
   "nbconvert_exporter": "python",
   "pygments_lexer": "ipython3",
   "version": "3.9.12"
  }
 },
 "nbformat": 4,
 "nbformat_minor": 5
}
