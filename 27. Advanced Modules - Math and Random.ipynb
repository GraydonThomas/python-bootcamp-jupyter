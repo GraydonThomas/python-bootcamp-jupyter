{
 "cells": [
  {
   "cell_type": "code",
   "execution_count": 26,
   "id": "33289563",
   "metadata": {},
   "outputs": [],
   "source": [
    "import math # math module"
   ]
  },
  {
   "cell_type": "code",
   "execution_count": 3,
   "id": "2aeee097",
   "metadata": {},
   "outputs": [],
   "source": [
    "# help(math)"
   ]
  },
  {
   "cell_type": "code",
   "execution_count": 4,
   "id": "65e5679b",
   "metadata": {},
   "outputs": [],
   "source": [
    "value = 4.35"
   ]
  },
  {
   "cell_type": "code",
   "execution_count": 5,
   "id": "16320f1d",
   "metadata": {},
   "outputs": [
    {
     "data": {
      "text/plain": [
       "4"
      ]
     },
     "execution_count": 5,
     "metadata": {},
     "output_type": "execute_result"
    }
   ],
   "source": [
    "math.floor(value) # round down "
   ]
  },
  {
   "cell_type": "code",
   "execution_count": 6,
   "id": "45dde863",
   "metadata": {},
   "outputs": [
    {
     "data": {
      "text/plain": [
       "5"
      ]
     },
     "execution_count": 6,
     "metadata": {},
     "output_type": "execute_result"
    }
   ],
   "source": [
    "math.ceil(value) # round up"
   ]
  },
  {
   "cell_type": "code",
   "execution_count": 7,
   "id": "089433b9",
   "metadata": {},
   "outputs": [
    {
     "data": {
      "text/plain": [
       "4"
      ]
     },
     "execution_count": 7,
     "metadata": {},
     "output_type": "execute_result"
    }
   ],
   "source": [
    "round(value) # not part of the math module"
   ]
  },
  {
   "cell_type": "code",
   "execution_count": 10,
   "id": "c8539752",
   "metadata": {},
   "outputs": [
    {
     "data": {
      "text/plain": [
       "4"
      ]
     },
     "execution_count": 10,
     "metadata": {},
     "output_type": "execute_result"
    }
   ],
   "source": [
    "round(4.5) # rounding rules will cause rounding to all evens or all odds, in order to offset accumulated rounding errors"
   ]
  },
  {
   "cell_type": "code",
   "execution_count": 11,
   "id": "4de05f51",
   "metadata": {},
   "outputs": [
    {
     "data": {
      "text/plain": [
       "6"
      ]
     },
     "execution_count": 11,
     "metadata": {},
     "output_type": "execute_result"
    }
   ],
   "source": [
    "round(5.5) # 4.5 rounded down to 4, 5.5 rounded up to 6"
   ]
  },
  {
   "cell_type": "code",
   "execution_count": 13,
   "id": "267963a4",
   "metadata": {},
   "outputs": [
    {
     "data": {
      "text/plain": [
       "3.141592653589793"
      ]
     },
     "execution_count": 13,
     "metadata": {},
     "output_type": "execute_result"
    }
   ],
   "source": [
    "math.pi # constant; can use from math import pi"
   ]
  },
  {
   "cell_type": "code",
   "execution_count": 14,
   "id": "59e7808a",
   "metadata": {},
   "outputs": [
    {
     "data": {
      "text/plain": [
       "2.718281828459045"
      ]
     },
     "execution_count": 14,
     "metadata": {},
     "output_type": "execute_result"
    }
   ],
   "source": [
    "math.e # euler's number"
   ]
  },
  {
   "cell_type": "code",
   "execution_count": 15,
   "id": "3732837e",
   "metadata": {},
   "outputs": [
    {
     "data": {
      "text/plain": [
       "nan"
      ]
     },
     "execution_count": 15,
     "metadata": {},
     "output_type": "execute_result"
    }
   ],
   "source": [
    "math.inf # infinity\n",
    "math.nan # not a number"
   ]
  },
  {
   "cell_type": "code",
   "execution_count": 16,
   "id": "ad066c4c",
   "metadata": {},
   "outputs": [],
   "source": [
    "# Numpy - Library specifically designed for numerical processing and much more comprehensive "
   ]
  },
  {
   "cell_type": "code",
   "execution_count": 17,
   "id": "b3702548",
   "metadata": {},
   "outputs": [
    {
     "data": {
      "text/plain": [
       "1.0"
      ]
     },
     "execution_count": 17,
     "metadata": {},
     "output_type": "execute_result"
    }
   ],
   "source": [
    "math.log(math.e)"
   ]
  },
  {
   "cell_type": "code",
   "execution_count": 20,
   "id": "6944bf84",
   "metadata": {},
   "outputs": [
    {
     "data": {
      "text/plain": [
       "2.0"
      ]
     },
     "execution_count": 20,
     "metadata": {},
     "output_type": "execute_result"
    }
   ],
   "source": [
    "math.log(100,10) # (a,b) - b to the power of x = a, solve for x"
   ]
  },
  {
   "cell_type": "code",
   "execution_count": 23,
   "id": "8a6a5c23",
   "metadata": {},
   "outputs": [
    {
     "data": {
      "text/plain": [
       "-0.5440211108893698"
      ]
     },
     "execution_count": 23,
     "metadata": {},
     "output_type": "execute_result"
    }
   ],
   "source": [
    "math.sin(10)"
   ]
  },
  {
   "cell_type": "code",
   "execution_count": 24,
   "id": "a054e33e",
   "metadata": {},
   "outputs": [
    {
     "data": {
      "text/plain": [
       "90.0"
      ]
     },
     "execution_count": 24,
     "metadata": {},
     "output_type": "execute_result"
    }
   ],
   "source": [
    "math.degrees(math.pi/2)"
   ]
  },
  {
   "cell_type": "code",
   "execution_count": 25,
   "id": "128d2830",
   "metadata": {},
   "outputs": [
    {
     "data": {
      "text/plain": [
       "3.141592653589793"
      ]
     },
     "execution_count": 25,
     "metadata": {},
     "output_type": "execute_result"
    }
   ],
   "source": [
    "math.radians(180)"
   ]
  },
  {
   "cell_type": "code",
   "execution_count": 27,
   "id": "010f32e2",
   "metadata": {},
   "outputs": [],
   "source": [
    "import random # random module"
   ]
  },
  {
   "cell_type": "code",
   "execution_count": 28,
   "id": "d05f6e5b",
   "metadata": {},
   "outputs": [
    {
     "data": {
      "text/plain": [
       "78"
      ]
     },
     "execution_count": 28,
     "metadata": {},
     "output_type": "execute_result"
    }
   ],
   "source": [
    "random.randint(0,100) # includes both endpoints"
   ]
  },
  {
   "cell_type": "code",
   "execution_count": 41,
   "id": "b14abf66",
   "metadata": {},
   "outputs": [
    {
     "name": "stdout",
     "output_type": "stream",
     "text": [
      "81\n",
      "14\n",
      "3\n",
      "94\n"
     ]
    }
   ],
   "source": [
    "random.seed(42) # will return the same random values each time when (x) is called\n",
    "print(random.randint(0,100)) # 81\n",
    "print(random.randint(0,100)) # 14\n",
    "print(random.randint(0,100)) # 3\n",
    "print(random.randint(0,100)) # 94\n",
    "\n",
    "# will always return the same order of \"random\" variables after a seed has been set\n",
    "# if the seed is changed, it will be a new set of random varialbes"
   ]
  },
  {
   "cell_type": "code",
   "execution_count": 42,
   "id": "231ef0d8",
   "metadata": {},
   "outputs": [],
   "source": [
    "mylist = list(range(0,20))"
   ]
  },
  {
   "cell_type": "code",
   "execution_count": 43,
   "id": "7764e32c",
   "metadata": {},
   "outputs": [
    {
     "data": {
      "text/plain": [
       "[0, 1, 2, 3, 4, 5, 6, 7, 8, 9, 10, 11, 12, 13, 14, 15, 16, 17, 18, 19]"
      ]
     },
     "execution_count": 43,
     "metadata": {},
     "output_type": "execute_result"
    }
   ],
   "source": [
    "mylist"
   ]
  },
  {
   "cell_type": "code",
   "execution_count": 48,
   "id": "caf95e8e",
   "metadata": {},
   "outputs": [
    {
     "data": {
      "text/plain": [
       "7"
      ]
     },
     "execution_count": 48,
     "metadata": {},
     "output_type": "execute_result"
    }
   ],
   "source": [
    "random.choice(mylist)"
   ]
  },
  {
   "cell_type": "code",
   "execution_count": 49,
   "id": "eed73fe6",
   "metadata": {},
   "outputs": [],
   "source": [
    "# Sample with replacement"
   ]
  },
  {
   "cell_type": "code",
   "execution_count": 52,
   "id": "6abb1bc8",
   "metadata": {},
   "outputs": [
    {
     "data": {
      "text/plain": [
       "[14, 10, 10, 7, 17, 4, 3, 18, 7, 0]"
      ]
     },
     "execution_count": 52,
     "metadata": {},
     "output_type": "execute_result"
    }
   ],
   "source": [
    "random.choices(population=mylist,k=10)"
   ]
  },
  {
   "cell_type": "code",
   "execution_count": 53,
   "id": "83bd1b8c",
   "metadata": {},
   "outputs": [],
   "source": [
    "# Sample without replacement (no duplicates)"
   ]
  },
  {
   "cell_type": "code",
   "execution_count": 54,
   "id": "38485b05",
   "metadata": {},
   "outputs": [
    {
     "data": {
      "text/plain": [
       "[2, 5, 1, 9, 0, 13, 14, 4, 7, 16]"
      ]
     },
     "execution_count": 54,
     "metadata": {},
     "output_type": "execute_result"
    }
   ],
   "source": [
    "random.sample(population=mylist, k=10)"
   ]
  },
  {
   "cell_type": "code",
   "execution_count": 55,
   "id": "887a762d",
   "metadata": {},
   "outputs": [
    {
     "data": {
      "text/plain": [
       "[0, 1, 2, 3, 4, 5, 6, 7, 8, 9, 10, 11, 12, 13, 14, 15, 16, 17, 18, 19]"
      ]
     },
     "execution_count": 55,
     "metadata": {},
     "output_type": "execute_result"
    }
   ],
   "source": [
    "mylist"
   ]
  },
  {
   "cell_type": "code",
   "execution_count": 56,
   "id": "24abe232",
   "metadata": {},
   "outputs": [],
   "source": [
    "random.shuffle(mylist)"
   ]
  },
  {
   "cell_type": "code",
   "execution_count": 57,
   "id": "2c2694ec",
   "metadata": {},
   "outputs": [
    {
     "data": {
      "text/plain": [
       "[11, 17, 9, 6, 10, 8, 18, 15, 3, 7, 2, 0, 1, 5, 16, 4, 14, 19, 13, 12]"
      ]
     },
     "execution_count": 57,
     "metadata": {},
     "output_type": "execute_result"
    }
   ],
   "source": [
    "mylist"
   ]
  },
  {
   "cell_type": "code",
   "execution_count": 58,
   "id": "71b5ee77",
   "metadata": {},
   "outputs": [],
   "source": [
    "# Probability distributions"
   ]
  },
  {
   "cell_type": "code",
   "execution_count": 60,
   "id": "98ff1716",
   "metadata": {},
   "outputs": [
    {
     "data": {
      "text/plain": [
       "53.41030849894442"
      ]
     },
     "execution_count": 60,
     "metadata": {},
     "output_type": "execute_result"
    }
   ],
   "source": [
    "random.uniform(a=0,b=100) # uniform = every number between a and b has equal likelihood of being chosen"
   ]
  },
  {
   "cell_type": "code",
   "execution_count": 63,
   "id": "dfc7529d",
   "metadata": {},
   "outputs": [
    {
     "data": {
      "text/plain": [
       "-4.767095319181342"
      ]
     },
     "execution_count": 63,
     "metadata": {},
     "output_type": "execute_result"
    }
   ],
   "source": [
    "random.gauss(mu=1,sigma=5) # gaussian distribution, centered at mu with a standard deviation of sigma"
   ]
  },
  {
   "cell_type": "code",
   "execution_count": null,
   "id": "5f5865f1",
   "metadata": {},
   "outputs": [],
   "source": []
  }
 ],
 "metadata": {
  "kernelspec": {
   "display_name": "Python 3 (ipykernel)",
   "language": "python",
   "name": "python3"
  },
  "language_info": {
   "codemirror_mode": {
    "name": "ipython",
    "version": 3
   },
   "file_extension": ".py",
   "mimetype": "text/x-python",
   "name": "python",
   "nbconvert_exporter": "python",
   "pygments_lexer": "ipython3",
   "version": "3.9.12"
  }
 },
 "nbformat": 4,
 "nbformat_minor": 5
}
