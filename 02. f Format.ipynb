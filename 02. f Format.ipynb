{
 "cells": [
  {
   "cell_type": "code",
   "execution_count": 1,
   "id": "91477a21",
   "metadata": {},
   "outputs": [],
   "source": [
    "cat_name = \"Smithers\""
   ]
  },
  {
   "cell_type": "code",
   "execution_count": 2,
   "id": "851ec485",
   "metadata": {},
   "outputs": [],
   "source": [
    "dog_name = \"Burns\""
   ]
  },
  {
   "cell_type": "code",
   "execution_count": 3,
   "id": "8165a44c",
   "metadata": {},
   "outputs": [
    {
     "name": "stdout",
     "output_type": "stream",
     "text": [
      "I have a cat and dog named Smithers and Burns, respectively.\n"
     ]
    }
   ],
   "source": [
    "print(f'I have a cat and dog named {cat_name} and {dog_name}, respectively.')"
   ]
  },
  {
   "cell_type": "code",
   "execution_count": 4,
   "id": "564e6dba",
   "metadata": {},
   "outputs": [
    {
     "name": "stdout",
     "output_type": "stream",
     "text": [
      "I have a cat and dog named {cat_name} and {dog_name}, respectively.\n"
     ]
    }
   ],
   "source": [
    "print('I have a cat and dog named {cat_name} and {dog_name}, respectively.') #trying without the f"
   ]
  },
  {
   "cell_type": "code",
   "execution_count": null,
   "id": "71ab353c",
   "metadata": {},
   "outputs": [],
   "source": []
  }
 ],
 "metadata": {
  "kernelspec": {
   "display_name": "Python 3 (ipykernel)",
   "language": "python",
   "name": "python3"
  },
  "language_info": {
   "codemirror_mode": {
    "name": "ipython",
    "version": 3
   },
   "file_extension": ".py",
   "mimetype": "text/x-python",
   "name": "python",
   "nbconvert_exporter": "python",
   "pygments_lexer": "ipython3",
   "version": "3.9.12"
  }
 },
 "nbformat": 4,
 "nbformat_minor": 5
}
