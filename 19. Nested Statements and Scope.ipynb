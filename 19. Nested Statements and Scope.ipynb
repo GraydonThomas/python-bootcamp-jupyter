{
 "cells": [
  {
   "cell_type": "code",
   "execution_count": 1,
   "id": "66531b4e",
   "metadata": {},
   "outputs": [
    {
     "data": {
      "text/plain": [
       "<function __main__.<lambda>(num)>"
      ]
     },
     "execution_count": 1,
     "metadata": {},
     "output_type": "execute_result"
    }
   ],
   "source": [
    "lambda num:num**2  # num is local to this lamba expression"
   ]
  },
  {
   "cell_type": "code",
   "execution_count": 10,
   "id": "98fef360",
   "metadata": {},
   "outputs": [],
   "source": [
    "# GLOBAL\n",
    "name = \"THIS IS A GLOBAL STRING\"\n",
    "\n",
    "def greet():\n",
    "    \n",
    "    # ENCLOSING\n",
    "    name = \"Sammy\"\n",
    "    \n",
    "    def hello():\n",
    "        \n",
    "        #LOCAL\n",
    "        name = \"I'm a local\"\n",
    "        print(\"Hello \"+name)\n",
    "        \n",
    "    hello()"
   ]
  },
  {
   "cell_type": "code",
   "execution_count": 11,
   "id": "78bfdb1a",
   "metadata": {},
   "outputs": [
    {
     "name": "stdout",
     "output_type": "stream",
     "text": [
      "Hello I'm a local\n"
     ]
    }
   ],
   "source": [
    "greet()"
   ]
  },
  {
   "cell_type": "code",
   "execution_count": 12,
   "id": "7b2c8260",
   "metadata": {},
   "outputs": [],
   "source": [
    "# Python will use the local variable first, and if it can't find it locally within a function, \n",
    "# it will utilize the enclosing, then global variable"
   ]
  },
  {
   "cell_type": "code",
   "execution_count": 51,
   "id": "ed76e9ca",
   "metadata": {},
   "outputs": [],
   "source": [
    "x = 50\n",
    "count = 0\n",
    "def func(x):\n",
    "    count = 0\n",
    "    while count < 10:\n",
    "        print(f\"X is {x}\")\n",
    "    \n",
    "        # Local reassignment\n",
    "        x += 200\n",
    "        print(f\"X reassigned to {x}\")\n",
    "        count += 1\n",
    "    return x # this return will ensure the function outputs a value\n",
    "    "
   ]
  },
  {
   "cell_type": "code",
   "execution_count": 49,
   "id": "f2e2b897",
   "metadata": {},
   "outputs": [
    {
     "name": "stdout",
     "output_type": "stream",
     "text": [
      "X is 2050\n",
      "X reassigned to 2250\n",
      "X is 2250\n",
      "X reassigned to 2450\n",
      "X is 2450\n",
      "X reassigned to 2650\n",
      "X is 2650\n",
      "X reassigned to 2850\n",
      "X is 2850\n",
      "X reassigned to 3050\n",
      "X is 3050\n",
      "X reassigned to 3250\n",
      "X is 3250\n",
      "X reassigned to 3450\n",
      "X is 3450\n",
      "X reassigned to 3650\n",
      "X is 3650\n",
      "X reassigned to 3850\n",
      "X is 3850\n",
      "X reassigned to 4050\n"
     ]
    }
   ],
   "source": [
    "x = func(x)"
   ]
  },
  {
   "cell_type": "code",
   "execution_count": 50,
   "id": "3de49977",
   "metadata": {},
   "outputs": [
    {
     "data": {
      "text/plain": [
       "4050"
      ]
     },
     "execution_count": 50,
     "metadata": {},
     "output_type": "execute_result"
    }
   ],
   "source": [
    "x"
   ]
  },
  {
   "cell_type": "code",
   "execution_count": 52,
   "id": "1bdb7fa8",
   "metadata": {},
   "outputs": [],
   "source": [
    "# using the GLOBAL keyword, it is harder to debug when you accidentally overwrite a function"
   ]
  },
  {
   "cell_type": "code",
   "execution_count": null,
   "id": "78fe4906",
   "metadata": {},
   "outputs": [],
   "source": []
  },
  {
   "cell_type": "code",
   "execution_count": null,
   "id": "a1a001ee",
   "metadata": {},
   "outputs": [],
   "source": []
  }
 ],
 "metadata": {
  "kernelspec": {
   "display_name": "Python 3 (ipykernel)",
   "language": "python",
   "name": "python3"
  },
  "language_info": {
   "codemirror_mode": {
    "name": "ipython",
    "version": 3
   },
   "file_extension": ".py",
   "mimetype": "text/x-python",
   "name": "python",
   "nbconvert_exporter": "python",
   "pygments_lexer": "ipython3",
   "version": "3.9.12"
  }
 },
 "nbformat": 4,
 "nbformat_minor": 5
}
