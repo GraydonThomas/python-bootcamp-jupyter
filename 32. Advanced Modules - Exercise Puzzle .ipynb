{
 "cells": [
  {
   "cell_type": "code",
   "execution_count": 8,
   "id": "c1c8b2ed",
   "metadata": {},
   "outputs": [],
   "source": [
    "# Instructions:\n",
    "\n",
    "# Your Goal\n",
    "# This is a puzzle, so we don't want to give you too much guidance and instead have you figure out things on your own.\n",
    "\n",
    "# There is a .zip file called 'unzip_me_for_instructions.zip', unzip it, open the .txt file with Python, \n",
    "# read the instructions and see if you can figure out what you need to do!"
   ]
  },
  {
   "cell_type": "code",
   "execution_count": 9,
   "id": "b504d02e",
   "metadata": {},
   "outputs": [
    {
     "data": {
      "text/plain": [
       "'C:\\\\Users\\\\Graydon\\\\Python Workbook'"
      ]
     },
     "execution_count": 9,
     "metadata": {},
     "output_type": "execute_result"
    }
   ],
   "source": [
    "pwd"
   ]
  },
  {
   "cell_type": "code",
   "execution_count": 62,
   "id": "9b0acba3",
   "metadata": {},
   "outputs": [],
   "source": [
    "import shutil\n",
    "import os\n",
    "import re"
   ]
  },
  {
   "cell_type": "code",
   "execution_count": 5,
   "id": "fbc9af7b",
   "metadata": {},
   "outputs": [],
   "source": [
    "zip_location = \"C:\\\\Users\\\\Graydon\\\\Python Bootcamp\\\\Complete-Python-3-Bootcamp-master\\\\12-Advanced Python Modules\\\\08-Advanced-Python-Module-Exercise\\\\unzip_me_for_instructions.zip\""
   ]
  },
  {
   "cell_type": "code",
   "execution_count": 6,
   "id": "3a9acd8e",
   "metadata": {},
   "outputs": [],
   "source": [
    "unpack_dir = \"C:\\\\Users\\\\Graydon\\\\Python Bootcamp\\\\Complete-Python-3-Bootcamp-master\\\\12-Advanced Python Modules\\\\08-Advanced-Python-Module-Exercise\\\\unzipped_dir\""
   ]
  },
  {
   "cell_type": "code",
   "execution_count": 7,
   "id": "7aac4e2a",
   "metadata": {},
   "outputs": [],
   "source": [
    "shutil.unpack_archive(zip_location, unpack_dir, \"zip\")"
   ]
  },
  {
   "cell_type": "code",
   "execution_count": 24,
   "id": "3cdcc929",
   "metadata": {},
   "outputs": [],
   "source": [
    "dir_list = os.scandir(unpack_dir + \"\\\\extracted_content\")"
   ]
  },
  {
   "cell_type": "code",
   "execution_count": 28,
   "id": "6f0e4c40",
   "metadata": {},
   "outputs": [],
   "source": [
    "current_dir = unpack_dir + \"\\\\extracted_content\""
   ]
  },
  {
   "cell_type": "code",
   "execution_count": 53,
   "id": "2905c475",
   "metadata": {},
   "outputs": [
    {
     "data": {
      "text/plain": [
       "['Five', 'Four', 'Instructions.txt', 'One', 'Three', 'Two']"
      ]
     },
     "execution_count": 53,
     "metadata": {},
     "output_type": "execute_result"
    }
   ],
   "source": [
    "os.listdir(current_dir)"
   ]
  },
  {
   "cell_type": "code",
   "execution_count": 42,
   "id": "0acc1b7c",
   "metadata": {},
   "outputs": [],
   "source": [
    "os.chdir(current_dir)"
   ]
  },
  {
   "cell_type": "code",
   "execution_count": 44,
   "id": "a0a6103e",
   "metadata": {},
   "outputs": [
    {
     "data": {
      "text/plain": [
       "'C:\\\\Users\\\\Graydon\\\\Python Bootcamp\\\\Complete-Python-3-Bootcamp-master\\\\12-Advanced Python Modules\\\\08-Advanced-Python-Module-Exercise\\\\unzipped_dir\\\\extracted_content'"
      ]
     },
     "execution_count": 44,
     "metadata": {},
     "output_type": "execute_result"
    }
   ],
   "source": [
    "os.getcwd()"
   ]
  },
  {
   "cell_type": "code",
   "execution_count": 37,
   "id": "6ba2f295",
   "metadata": {},
   "outputs": [],
   "source": [
    "instruction_file = open((current_dir + \"\\\\Instructions.txt\"), \"r\")"
   ]
  },
  {
   "cell_type": "code",
   "execution_count": 41,
   "id": "6ff9c187",
   "metadata": {},
   "outputs": [
    {
     "data": {
      "text/plain": [
       "['Good work on unzipping the file!\\n',\n",
       " 'You should now see 5 folders, each with a lot of random .txt files.\\n',\n",
       " 'Within one of these text files is a telephone number formated ###-###-#### \\n',\n",
       " 'Use the Python os module and regular expressions to iterate through each file, open it, and search for a telephone number.\\n',\n",
       " 'Good luck!']"
      ]
     },
     "execution_count": 41,
     "metadata": {},
     "output_type": "execute_result"
    }
   ],
   "source": [
    "instruction_file.readlines()"
   ]
  },
  {
   "cell_type": "code",
   "execution_count": 86,
   "id": "e7acff05",
   "metadata": {},
   "outputs": [],
   "source": [
    "pattern = re.compile(r\"(\\d{3})-(\\d{3})-(\\d{4})\")"
   ]
  },
  {
   "cell_type": "code",
   "execution_count": 104,
   "id": "caf7ba96",
   "metadata": {
    "scrolled": true
   },
   "outputs": [
    {
     "name": "stdout",
     "output_type": "stream",
     "text": [
      "Phone number found in file: EMTGPSXQEJX.txt\n"
     ]
    }
   ],
   "source": [
    "for folders in os.listdir(current_dir):\n",
    "    if folders == \"Instructions.txt\":\n",
    "        continue\n",
    "    else:\n",
    "        temp_dir = (current_dir + \"\\\\\" + folders)\n",
    "        n = 0\n",
    "        found_number_list = []\n",
    "        for textfiles in os.listdir(temp_dir):\n",
    "            current_txt_file = open((temp_dir + \"\\\\\" + textfiles), \"r\")\n",
    "            read_txt_file = current_txt_file.readline()\n",
    "            results = re.search(pattern, read_txt_file)\n",
    "            if results:\n",
    "                print(f\"Phone number found in file: {textfiles}\")\n"
   ]
  },
  {
   "cell_type": "code",
   "execution_count": 106,
   "id": "9c35b984",
   "metadata": {},
   "outputs": [],
   "source": [
    "# Mine was above, below is the solutions example"
   ]
  },
  {
   "cell_type": "code",
   "execution_count": 107,
   "id": "28dcc0e8",
   "metadata": {},
   "outputs": [],
   "source": [
    "def search(file, pattern=r\"\\d{3}-\\d{3}-\\d{4}\"):\n",
    "    f = open(file, \"r\")\n",
    "    text = f.read()\n",
    "    \n",
    "    if re.search(pattern, text):\n",
    "        return re.search(pattern,text)\n",
    "    else:\n",
    "        return \"\""
   ]
  },
  {
   "cell_type": "code",
   "execution_count": 108,
   "id": "7cb9d276",
   "metadata": {},
   "outputs": [],
   "source": [
    "results = []"
   ]
  },
  {
   "cell_type": "code",
   "execution_count": 110,
   "id": "df1abad5",
   "metadata": {},
   "outputs": [],
   "source": [
    "for folder, sub_folders, files in os.walk(os.getcwd()):\n",
    "    for f in files:\n",
    "        full_path = folder + \"\\\\\" + f\n",
    "        \n",
    "        results.append(search(full_path))"
   ]
  },
  {
   "cell_type": "code",
   "execution_count": 112,
   "id": "832f3108",
   "metadata": {},
   "outputs": [
    {
     "name": "stdout",
     "output_type": "stream",
     "text": [
      "719-266-2837\n"
     ]
    }
   ],
   "source": [
    "for r in results:\n",
    "    if r != \"\":\n",
    "        print(r.group())"
   ]
  },
  {
   "cell_type": "code",
   "execution_count": null,
   "id": "11ebb0e4",
   "metadata": {},
   "outputs": [],
   "source": []
  }
 ],
 "metadata": {
  "kernelspec": {
   "display_name": "Python 3 (ipykernel)",
   "language": "python",
   "name": "python3"
  },
  "language_info": {
   "codemirror_mode": {
    "name": "ipython",
    "version": 3
   },
   "file_extension": ".py",
   "mimetype": "text/x-python",
   "name": "python",
   "nbconvert_exporter": "python",
   "pygments_lexer": "ipython3",
   "version": "3.9.12"
  }
 },
 "nbformat": 4,
 "nbformat_minor": 5
}
