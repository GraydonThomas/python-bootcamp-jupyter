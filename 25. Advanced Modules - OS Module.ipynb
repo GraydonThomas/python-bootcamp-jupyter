{
 "cells": [
  {
   "cell_type": "code",
   "execution_count": 3,
   "id": "39a5e51e",
   "metadata": {},
   "outputs": [],
   "source": [
    "import os"
   ]
  },
  {
   "cell_type": "code",
   "execution_count": 11,
   "id": "4196aa3f",
   "metadata": {},
   "outputs": [
    {
     "data": {
      "text/plain": [
       "'C:\\\\Users\\\\Graydon\\\\Python Workbook'"
      ]
     },
     "execution_count": 11,
     "metadata": {},
     "output_type": "execute_result"
    }
   ],
   "source": [
    "os.getcwd() # os module - directory management. works in any python program"
   ]
  },
  {
   "cell_type": "code",
   "execution_count": 5,
   "id": "e6667e43",
   "metadata": {},
   "outputs": [
    {
     "data": {
      "text/plain": [
       "'C:\\\\Users\\\\Graydon\\\\Python Workbook'"
      ]
     },
     "execution_count": 5,
     "metadata": {},
     "output_type": "execute_result"
    }
   ],
   "source": [
    "pwd # special command in jupyter"
   ]
  },
  {
   "cell_type": "code",
   "execution_count": 2,
   "id": "75709b9a",
   "metadata": {},
   "outputs": [],
   "source": [
    "f = open(\"practice.txt\",\"w+\")\n",
    "f.write(\"This is a test string\")\n",
    "f.close()"
   ]
  },
  {
   "cell_type": "code",
   "execution_count": 9,
   "id": "a15d238a",
   "metadata": {},
   "outputs": [
    {
     "data": {
      "text/plain": [
       "['All Users', 'Default', 'Default User', 'desktop.ini', 'Graydon', 'Public']"
      ]
     },
     "execution_count": 9,
     "metadata": {},
     "output_type": "execute_result"
    }
   ],
   "source": [
    "os.listdir(\"C:\\\\Users\")"
   ]
  },
  {
   "cell_type": "code",
   "execution_count": 10,
   "id": "00c75c94",
   "metadata": {},
   "outputs": [],
   "source": [
    "import shutil # shell utilities module - move files to different locations"
   ]
  },
  {
   "cell_type": "code",
   "execution_count": 16,
   "id": "b977872f",
   "metadata": {},
   "outputs": [
    {
     "data": {
      "text/plain": [
       "'C:\\\\Users\\\\Graydon\\\\Python Workbook\\\\practice.txt'"
      ]
     },
     "execution_count": 16,
     "metadata": {},
     "output_type": "execute_result"
    }
   ],
   "source": [
    "shutil.move(\"C:\\\\Users\\\\Graydon\\\\practice.txt\", \"C:\\\\Users\\\\Graydon\\\\Python Workbook\") # move a file (source, destination)"
   ]
  },
  {
   "cell_type": "code",
   "execution_count": 17,
   "id": "64c0e5b0",
   "metadata": {
    "scrolled": true
   },
   "outputs": [
    {
     "data": {
      "text/plain": [
       "['.ipynb_checkpoints',\n",
       " 'Advanced Modules - Collections Module.ipynb',\n",
       " 'Advanced Modules - OS Module.ipynb',\n",
       " 'args kwargs.ipynb',\n",
       " 'Battleship',\n",
       " 'Booleans.ipynb',\n",
       " 'Decorators.ipynb',\n",
       " 'Dictionaries.ipynb',\n",
       " 'Enumerate and Other Operators.ipynb',\n",
       " 'Error Handling.ipynb',\n",
       " 'f Format.ipynb',\n",
       " 'FFXI',\n",
       " 'For Loops.ipynb',\n",
       " 'Functions (def).ipynb',\n",
       " 'Functions and Tuple Unpacking.ipynb',\n",
       " 'Functions with Logic.ipynb',\n",
       " 'Generators.ipynb',\n",
       " 'If, Elif, Else.ipynb',\n",
       " 'Interactions Between Functions.ipynb',\n",
       " 'Lambda Expressions, Map, and Filter.ipynb',\n",
       " 'List Comprehension.ipynb',\n",
       " 'Lists.ipynb',\n",
       " 'Milestone Project 2',\n",
       " 'Nested Statements and Scope.ipynb',\n",
       " 'Object Oriented Programming.ipynb',\n",
       " 'practice.txt',\n",
       " 'Rough Work.ipynb',\n",
       " 'Sets.ipynb',\n",
       " 'Strings & Slice.ipynb',\n",
       " 'testfile',\n",
       " 'Tic Tac Toe.ipynb',\n",
       " 'Tuples.ipynb',\n",
       " 'While Loops.ipynb',\n",
       " 'WoW']"
      ]
     },
     "execution_count": 17,
     "metadata": {},
     "output_type": "execute_result"
    }
   ],
   "source": [
    "os.listdir(\"C:\\\\Users\\\\Graydon\\\\Python Workbook\")"
   ]
  },
  {
   "cell_type": "code",
   "execution_count": 19,
   "id": "ad5d9436",
   "metadata": {},
   "outputs": [],
   "source": [
    "# Deleting files with the OS module is permanent and may be dangerous\n",
    "# os.unlink(path) -> deletes a file\n",
    "# os.rmdir(path) -> deletes and empty folder\n",
    "# shutil.rmtree(path) -> nukes everything at that path\n",
    "\n",
    "# Alternatively, can use send2trash module for a softer delete function"
   ]
  },
  {
   "cell_type": "code",
   "execution_count": 20,
   "id": "01f4cfc4",
   "metadata": {},
   "outputs": [],
   "source": [
    "import send2trash"
   ]
  },
  {
   "cell_type": "code",
   "execution_count": 23,
   "id": "65ec983e",
   "metadata": {},
   "outputs": [],
   "source": [
    "send2trash.send2trash(\"practice.txt\")"
   ]
  },
  {
   "cell_type": "code",
   "execution_count": 26,
   "id": "3efb9965",
   "metadata": {},
   "outputs": [],
   "source": [
    "file_path = \"C:\\\\Users\\\\Graydon\\\\Python Bootcamp\\\\Complete-Python-3-Bootcamp-master\\\\12-Advanced Python Modules\\\\Example_Top_Level\""
   ]
  },
  {
   "cell_type": "code",
   "execution_count": 31,
   "id": "d09a30ef",
   "metadata": {},
   "outputs": [],
   "source": [
    "# os.walk will allow you to check within a filepath tree and you can narrow down specific filetypes or names"
   ]
  },
  {
   "cell_type": "code",
   "execution_count": 30,
   "id": "26653d3a",
   "metadata": {
    "scrolled": true
   },
   "outputs": [
    {
     "name": "stdout",
     "output_type": "stream",
     "text": [
      "Currently looking at C:\\Users\\Graydon\\Python Bootcamp\\Complete-Python-3-Bootcamp-master\\12-Advanced Python Modules\\Example_Top_Level \n",
      "\n",
      "The subdirectories are:\n",
      "\t Subfolder: Mid-Example-One\n",
      "\t Subfolder: Mid-Example-Two\n",
      "\n",
      "\n",
      "The files are:\n",
      "\t File: Mid-Example.txt\n",
      "\n",
      "\n",
      "Currently looking at C:\\Users\\Graydon\\Python Bootcamp\\Complete-Python-3-Bootcamp-master\\12-Advanced Python Modules\\Example_Top_Level\\Mid-Example-One \n",
      "\n",
      "The subdirectories are:\n",
      "\t Subfolder: Bottom-Level-One\n",
      "\t Subfolder: Bottom-Level-Two\n",
      "\n",
      "\n",
      "The files are:\n",
      "\t File: Mid-Level-Doc.txt\n",
      "\n",
      "\n",
      "Currently looking at C:\\Users\\Graydon\\Python Bootcamp\\Complete-Python-3-Bootcamp-master\\12-Advanced Python Modules\\Example_Top_Level\\Mid-Example-One\\Bottom-Level-One \n",
      "\n",
      "The subdirectories are:\n",
      "\n",
      "\n",
      "The files are:\n",
      "\t File: One_Text.txt\n",
      "\n",
      "\n",
      "Currently looking at C:\\Users\\Graydon\\Python Bootcamp\\Complete-Python-3-Bootcamp-master\\12-Advanced Python Modules\\Example_Top_Level\\Mid-Example-One\\Bottom-Level-Two \n",
      "\n",
      "The subdirectories are:\n",
      "\n",
      "\n",
      "The files are:\n",
      "\t File: Bottom-Text-Two.txt\n",
      "\n",
      "\n",
      "Currently looking at C:\\Users\\Graydon\\Python Bootcamp\\Complete-Python-3-Bootcamp-master\\12-Advanced Python Modules\\Example_Top_Level\\Mid-Example-Two \n",
      "\n",
      "The subdirectories are:\n",
      "\n",
      "\n",
      "The files are:\n",
      "\n",
      "\n"
     ]
    }
   ],
   "source": [
    "for folder, sub_folders, files in os.walk(file_path): # Look at every folder and file within the directory\n",
    "    \n",
    "    print(f\"Currently looking at {folder} \\n\")\n",
    "    print(\"The subdirectories are:\")\n",
    "    \n",
    "    for sub_fold in sub_folders:\n",
    "        print(f\"\\t Subfolder: {sub_fold}\")\n",
    "    \n",
    "    print(\"\\n\")\n",
    "    print(\"The files are:\")\n",
    "    for f in files:\n",
    "        print(f\"\\t File: {f}\")\n",
    "    print(\"\\n\")\n",
    "              "
   ]
  },
  {
   "cell_type": "code",
   "execution_count": null,
   "id": "bf70aef4",
   "metadata": {},
   "outputs": [],
   "source": []
  }
 ],
 "metadata": {
  "kernelspec": {
   "display_name": "Python 3 (ipykernel)",
   "language": "python",
   "name": "python3"
  },
  "language_info": {
   "codemirror_mode": {
    "name": "ipython",
    "version": 3
   },
   "file_extension": ".py",
   "mimetype": "text/x-python",
   "name": "python",
   "nbconvert_exporter": "python",
   "pygments_lexer": "ipython3",
   "version": "3.9.12"
  }
 },
 "nbformat": 4,
 "nbformat_minor": 5
}
