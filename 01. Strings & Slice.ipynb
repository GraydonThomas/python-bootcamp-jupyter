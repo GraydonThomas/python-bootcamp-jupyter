{
 "cells": [
  {
   "cell_type": "code",
   "execution_count": 1,
   "id": "44d275e1",
   "metadata": {},
   "outputs": [],
   "source": [
    "mystring = 'hello bob'"
   ]
  },
  {
   "cell_type": "code",
   "execution_count": 2,
   "id": "2ad29046",
   "metadata": {},
   "outputs": [
    {
     "data": {
      "text/plain": [
       "'hello bob'"
      ]
     },
     "execution_count": 2,
     "metadata": {},
     "output_type": "execute_result"
    }
   ],
   "source": [
    "mystring"
   ]
  },
  {
   "cell_type": "code",
   "execution_count": 3,
   "id": "df945a9c",
   "metadata": {},
   "outputs": [
    {
     "ename": "TypeError",
     "evalue": "'builtin_function_or_method' object is not subscriptable",
     "output_type": "error",
     "traceback": [
      "\u001b[1;31m---------------------------------------------------------------------------\u001b[0m",
      "\u001b[1;31mTypeError\u001b[0m                                 Traceback (most recent call last)",
      "Input \u001b[1;32mIn [3]\u001b[0m, in \u001b[0;36m<cell line: 1>\u001b[1;34m()\u001b[0m\n\u001b[1;32m----> 1\u001b[0m \u001b[38;5;28;43mlen\u001b[39;49m\u001b[43m[\u001b[49m\u001b[43mmystring\u001b[49m\u001b[43m]\u001b[49m\n",
      "\u001b[1;31mTypeError\u001b[0m: 'builtin_function_or_method' object is not subscriptable"
     ]
    }
   ],
   "source": [
    "len[mystring]"
   ]
  },
  {
   "cell_type": "code",
   "execution_count": 4,
   "id": "b65b14fa",
   "metadata": {},
   "outputs": [],
   "source": [
    "mystring = \"hello bob\""
   ]
  },
  {
   "cell_type": "code",
   "execution_count": 5,
   "id": "d1942557",
   "metadata": {},
   "outputs": [
    {
     "data": {
      "text/plain": [
       "'hello bob'"
      ]
     },
     "execution_count": 5,
     "metadata": {},
     "output_type": "execute_result"
    }
   ],
   "source": [
    "mystring"
   ]
  },
  {
   "cell_type": "code",
   "execution_count": 6,
   "id": "145f4597",
   "metadata": {},
   "outputs": [
    {
     "ename": "TypeError",
     "evalue": "'builtin_function_or_method' object is not subscriptable",
     "output_type": "error",
     "traceback": [
      "\u001b[1;31m---------------------------------------------------------------------------\u001b[0m",
      "\u001b[1;31mTypeError\u001b[0m                                 Traceback (most recent call last)",
      "Input \u001b[1;32mIn [6]\u001b[0m, in \u001b[0;36m<cell line: 1>\u001b[1;34m()\u001b[0m\n\u001b[1;32m----> 1\u001b[0m \u001b[38;5;28;43mlen\u001b[39;49m\u001b[43m[\u001b[49m\u001b[38;5;124;43m\"\u001b[39;49m\u001b[38;5;124;43m\"\u001b[39;49m\u001b[43m]\u001b[49m\n",
      "\u001b[1;31mTypeError\u001b[0m: 'builtin_function_or_method' object is not subscriptable"
     ]
    }
   ],
   "source": [
    "len[\"\"]"
   ]
  },
  {
   "cell_type": "code",
   "execution_count": 7,
   "id": "4146ffa7",
   "metadata": {},
   "outputs": [
    {
     "ename": "TypeError",
     "evalue": "'builtin_function_or_method' object is not subscriptable",
     "output_type": "error",
     "traceback": [
      "\u001b[1;31m---------------------------------------------------------------------------\u001b[0m",
      "\u001b[1;31mTypeError\u001b[0m                                 Traceback (most recent call last)",
      "Input \u001b[1;32mIn [7]\u001b[0m, in \u001b[0;36m<cell line: 1>\u001b[1;34m()\u001b[0m\n\u001b[1;32m----> 1\u001b[0m \u001b[38;5;28;43mlen\u001b[39;49m\u001b[43m[\u001b[49m\u001b[38;5;124;43m\"\u001b[39;49m\u001b[38;5;124;43mmystring\u001b[39;49m\u001b[38;5;124;43m\"\u001b[39;49m\u001b[43m]\u001b[49m\n",
      "\u001b[1;31mTypeError\u001b[0m: 'builtin_function_or_method' object is not subscriptable"
     ]
    }
   ],
   "source": [
    "len[\"mystring\"]"
   ]
  },
  {
   "cell_type": "code",
   "execution_count": 8,
   "id": "d2606161",
   "metadata": {},
   "outputs": [
    {
     "data": {
      "text/plain": [
       "<function len(obj, /)>"
      ]
     },
     "execution_count": 8,
     "metadata": {},
     "output_type": "execute_result"
    }
   ],
   "source": [
    "len"
   ]
  },
  {
   "cell_type": "code",
   "execution_count": 9,
   "id": "e476bd6f",
   "metadata": {},
   "outputs": [
    {
     "data": {
      "text/plain": [
       "9"
      ]
     },
     "execution_count": 9,
     "metadata": {},
     "output_type": "execute_result"
    }
   ],
   "source": [
    "len(mystring)"
   ]
  },
  {
   "cell_type": "code",
   "execution_count": 10,
   "id": "5d96c5a6",
   "metadata": {},
   "outputs": [],
   "source": [
    "stringhalf = (len(mystring))/2\n"
   ]
  },
  {
   "cell_type": "code",
   "execution_count": 11,
   "id": "5d2eafe7",
   "metadata": {},
   "outputs": [
    {
     "data": {
      "text/plain": [
       "4.5"
      ]
     },
     "execution_count": 11,
     "metadata": {},
     "output_type": "execute_result"
    }
   ],
   "source": [
    "stringhalf"
   ]
  },
  {
   "cell_type": "code",
   "execution_count": 12,
   "id": "3cd01c7e",
   "metadata": {},
   "outputs": [],
   "source": [
    "stringhalf = (len(mystring)-1)/2"
   ]
  },
  {
   "cell_type": "code",
   "execution_count": 13,
   "id": "b5172b2e",
   "metadata": {},
   "outputs": [
    {
     "data": {
      "text/plain": [
       "4.0"
      ]
     },
     "execution_count": 13,
     "metadata": {},
     "output_type": "execute_result"
    }
   ],
   "source": [
    "stringhalf"
   ]
  },
  {
   "cell_type": "code",
   "execution_count": 14,
   "id": "1f451574",
   "metadata": {},
   "outputs": [
    {
     "ename": "TypeError",
     "evalue": "slice indices must be integers or None or have an __index__ method",
     "output_type": "error",
     "traceback": [
      "\u001b[1;31m---------------------------------------------------------------------------\u001b[0m",
      "\u001b[1;31mTypeError\u001b[0m                                 Traceback (most recent call last)",
      "Input \u001b[1;32mIn [14]\u001b[0m, in \u001b[0;36m<cell line: 1>\u001b[1;34m()\u001b[0m\n\u001b[1;32m----> 1\u001b[0m \u001b[43mmystring\u001b[49m\u001b[43m[\u001b[49m\u001b[43mstringhalf\u001b[49m\u001b[43m:\u001b[49m\u001b[43m]\u001b[49m\n",
      "\u001b[1;31mTypeError\u001b[0m: slice indices must be integers or None or have an __index__ method"
     ]
    }
   ],
   "source": [
    "mystring[stringhalf:]"
   ]
  },
  {
   "cell_type": "code",
   "execution_count": 15,
   "id": "9cabaf72",
   "metadata": {},
   "outputs": [
    {
     "ename": "TypeError",
     "evalue": "string indices must be integers",
     "output_type": "error",
     "traceback": [
      "\u001b[1;31m---------------------------------------------------------------------------\u001b[0m",
      "\u001b[1;31mTypeError\u001b[0m                                 Traceback (most recent call last)",
      "Input \u001b[1;32mIn [15]\u001b[0m, in \u001b[0;36m<cell line: 1>\u001b[1;34m()\u001b[0m\n\u001b[1;32m----> 1\u001b[0m \u001b[43mmystring\u001b[49m\u001b[43m[\u001b[49m\u001b[43mstringhalf\u001b[49m\u001b[43m]\u001b[49m\n",
      "\u001b[1;31mTypeError\u001b[0m: string indices must be integers"
     ]
    }
   ],
   "source": [
    "mystring[stringhalf]"
   ]
  },
  {
   "cell_type": "code",
   "execution_count": 16,
   "id": "d9eb2166",
   "metadata": {},
   "outputs": [
    {
     "data": {
      "text/plain": [
       "'o'"
      ]
     },
     "execution_count": 16,
     "metadata": {},
     "output_type": "execute_result"
    }
   ],
   "source": [
    "mystring[int(stringhalf)]"
   ]
  },
  {
   "cell_type": "code",
   "execution_count": 17,
   "id": "7578eded",
   "metadata": {},
   "outputs": [
    {
     "data": {
      "text/plain": [
       "'o bob'"
      ]
     },
     "execution_count": 17,
     "metadata": {},
     "output_type": "execute_result"
    }
   ],
   "source": [
    "mystring[int(stringhalf):]"
   ]
  },
  {
   "cell_type": "code",
   "execution_count": 18,
   "id": "fcbe9994",
   "metadata": {},
   "outputs": [
    {
     "data": {
      "text/plain": [
       "''"
      ]
     },
     "execution_count": 18,
     "metadata": {},
     "output_type": "execute_result"
    }
   ],
   "source": [
    "mystring[int(stringhalf):0]"
   ]
  },
  {
   "cell_type": "code",
   "execution_count": 19,
   "id": "47d24d17",
   "metadata": {},
   "outputs": [
    {
     "data": {
      "text/plain": [
       "'o b'"
      ]
     },
     "execution_count": 19,
     "metadata": {},
     "output_type": "execute_result"
    }
   ],
   "source": [
    "mystring[int(stringhalf):-2]"
   ]
  },
  {
   "cell_type": "code",
   "execution_count": 20,
   "id": "51cbede4",
   "metadata": {},
   "outputs": [
    {
     "data": {
      "text/plain": [
       "'o bo'"
      ]
     },
     "execution_count": 20,
     "metadata": {},
     "output_type": "execute_result"
    }
   ],
   "source": [
    "mystring[int(stringhalf):-1]"
   ]
  },
  {
   "cell_type": "code",
   "execution_count": 21,
   "id": "85366914",
   "metadata": {},
   "outputs": [
    {
     "ename": "SyntaxError",
     "evalue": "invalid syntax (1127852775.py, line 1)",
     "output_type": "error",
     "traceback": [
      "\u001b[1;36m  Input \u001b[1;32mIn [21]\u001b[1;36m\u001b[0m\n\u001b[1;33m    mystring[int(stringhalf::-1)]\u001b[0m\n\u001b[1;37m                           ^\u001b[0m\n\u001b[1;31mSyntaxError\u001b[0m\u001b[1;31m:\u001b[0m invalid syntax\n"
     ]
    }
   ],
   "source": [
    "mystring[int(stringhalf::-1)]"
   ]
  },
  {
   "cell_type": "code",
   "execution_count": 22,
   "id": "95571c6b",
   "metadata": {},
   "outputs": [
    {
     "ename": "SyntaxError",
     "evalue": "invalid syntax (1127852775.py, line 1)",
     "output_type": "error",
     "traceback": [
      "\u001b[1;36m  Input \u001b[1;32mIn [22]\u001b[1;36m\u001b[0m\n\u001b[1;33m    mystring[int(stringhalf::-1)]\u001b[0m\n\u001b[1;37m                           ^\u001b[0m\n\u001b[1;31mSyntaxError\u001b[0m\u001b[1;31m:\u001b[0m invalid syntax\n"
     ]
    }
   ],
   "source": [
    "mystring[int(stringhalf::-1)]"
   ]
  },
  {
   "cell_type": "code",
   "execution_count": 23,
   "id": "80cbb79e",
   "metadata": {},
   "outputs": [
    {
     "ename": "SyntaxError",
     "evalue": "invalid syntax (2408119993.py, line 1)",
     "output_type": "error",
     "traceback": [
      "\u001b[1;36m  Input \u001b[1;32mIn [23]\u001b[1;36m\u001b[0m\n\u001b[1;33m    mystring[int(stringhalf: :-1)]\u001b[0m\n\u001b[1;37m                           ^\u001b[0m\n\u001b[1;31mSyntaxError\u001b[0m\u001b[1;31m:\u001b[0m invalid syntax\n"
     ]
    }
   ],
   "source": [
    "mystring[int(stringhalf: :-1)]"
   ]
  },
  {
   "cell_type": "code",
   "execution_count": 24,
   "id": "5f45c6a6",
   "metadata": {},
   "outputs": [
    {
     "ename": "SyntaxError",
     "evalue": "invalid syntax (2129609316.py, line 1)",
     "output_type": "error",
     "traceback": [
      "\u001b[1;36m  Input \u001b[1;32mIn [24]\u001b[1;36m\u001b[0m\n\u001b[1;33m    mystring[int(stringhalf:None:-1)]\u001b[0m\n\u001b[1;37m                           ^\u001b[0m\n\u001b[1;31mSyntaxError\u001b[0m\u001b[1;31m:\u001b[0m invalid syntax\n"
     ]
    }
   ],
   "source": [
    "mystring[int(stringhalf:None:-1)]"
   ]
  },
  {
   "cell_type": "code",
   "execution_count": 25,
   "id": "35b6bc9f",
   "metadata": {},
   "outputs": [
    {
     "data": {
      "text/plain": [
       "'olleh'"
      ]
     },
     "execution_count": 25,
     "metadata": {},
     "output_type": "execute_result"
    }
   ],
   "source": [
    "mystring[int(stringhalf)::-1]"
   ]
  },
  {
   "cell_type": "code",
   "execution_count": 26,
   "id": "79dba4cc",
   "metadata": {},
   "outputs": [
    {
     "data": {
      "text/plain": [
       "'olh'"
      ]
     },
     "execution_count": 26,
     "metadata": {},
     "output_type": "execute_result"
    }
   ],
   "source": [
    "mystring[int(stringhalf)::-2]"
   ]
  },
  {
   "cell_type": "code",
   "execution_count": 27,
   "id": "239c74b3",
   "metadata": {},
   "outputs": [
    {
     "data": {
      "text/plain": [
       "'o bob'"
      ]
     },
     "execution_count": 27,
     "metadata": {},
     "output_type": "execute_result"
    }
   ],
   "source": [
    "mystring[int(stringhalf)::]"
   ]
  },
  {
   "cell_type": "code",
   "execution_count": 28,
   "id": "596ce62e",
   "metadata": {},
   "outputs": [
    {
     "ename": "ValueError",
     "evalue": "slice step cannot be zero",
     "output_type": "error",
     "traceback": [
      "\u001b[1;31m---------------------------------------------------------------------------\u001b[0m",
      "\u001b[1;31mValueError\u001b[0m                                Traceback (most recent call last)",
      "Input \u001b[1;32mIn [28]\u001b[0m, in \u001b[0;36m<cell line: 1>\u001b[1;34m()\u001b[0m\n\u001b[1;32m----> 1\u001b[0m \u001b[43mmystring\u001b[49m\u001b[43m[\u001b[49m\u001b[38;5;28;43mint\u001b[39;49m\u001b[43m(\u001b[49m\u001b[43mstringhalf\u001b[49m\u001b[43m)\u001b[49m\u001b[43m:\u001b[49m\u001b[43m:\u001b[49m\u001b[38;5;241;43m0\u001b[39;49m\u001b[43m]\u001b[49m\n",
      "\u001b[1;31mValueError\u001b[0m: slice step cannot be zero"
     ]
    }
   ],
   "source": [
    "mystring[int(stringhalf)::0]"
   ]
  },
  {
   "cell_type": "code",
   "execution_count": 29,
   "id": "764dbe9b",
   "metadata": {},
   "outputs": [
    {
     "data": {
      "text/plain": [
       "'oe'"
      ]
     },
     "execution_count": 29,
     "metadata": {},
     "output_type": "execute_result"
    }
   ],
   "source": [
    "mystring[int(stringhalf)::-3]"
   ]
  },
  {
   "cell_type": "code",
   "execution_count": 30,
   "id": "aa3e0d43",
   "metadata": {},
   "outputs": [
    {
     "data": {
      "text/plain": [
       "'bob olleh'"
      ]
     },
     "execution_count": 30,
     "metadata": {},
     "output_type": "execute_result"
    }
   ],
   "source": [
    "mystring[::-1]"
   ]
  },
  {
   "cell_type": "code",
   "execution_count": 31,
   "id": "3e4f1fa0",
   "metadata": {},
   "outputs": [
    {
     "data": {
      "text/plain": [
       "'b'"
      ]
     },
     "execution_count": 31,
     "metadata": {},
     "output_type": "execute_result"
    }
   ],
   "source": [
    "mystring[-3]"
   ]
  },
  {
   "cell_type": "code",
   "execution_count": 32,
   "id": "6fef3be8",
   "metadata": {},
   "outputs": [
    {
     "data": {
      "text/plain": [
       "'oh'"
      ]
     },
     "execution_count": 32,
     "metadata": {},
     "output_type": "execute_result"
    }
   ],
   "source": [
    "mystring[int(stringhalf)::-4]"
   ]
  },
  {
   "cell_type": "code",
   "execution_count": 33,
   "id": "54f66327",
   "metadata": {},
   "outputs": [
    {
     "data": {
      "text/plain": [
       "'olh'"
      ]
     },
     "execution_count": 33,
     "metadata": {},
     "output_type": "execute_result"
    }
   ],
   "source": [
    "mystring[int(stringhalf)::-2]"
   ]
  },
  {
   "cell_type": "code",
   "execution_count": 34,
   "id": "6bf875a5",
   "metadata": {},
   "outputs": [
    {
     "data": {
      "text/plain": [
       "'hlobb'"
      ]
     },
     "execution_count": 34,
     "metadata": {},
     "output_type": "execute_result"
    }
   ],
   "source": [
    "mystring[::2]"
   ]
  },
  {
   "cell_type": "code",
   "execution_count": 35,
   "id": "dd8c862c",
   "metadata": {},
   "outputs": [],
   "source": [
    "mystring = mystring.replace(\" \", \"\") #remove the empty space "
   ]
  },
  {
   "cell_type": "code",
   "execution_count": 36,
   "id": "b698360d",
   "metadata": {},
   "outputs": [
    {
     "data": {
      "text/plain": [
       "'hloo'"
      ]
     },
     "execution_count": 36,
     "metadata": {},
     "output_type": "execute_result"
    }
   ],
   "source": [
    "mystring[::2] #print every other letter "
   ]
  },
  {
   "cell_type": "code",
   "execution_count": 37,
   "id": "5b4c07d9",
   "metadata": {},
   "outputs": [
    {
     "ename": "SyntaxError",
     "evalue": "Missing parentheses in call to 'print'. Did you mean print(mystring)? (3544426864.py, line 1)",
     "output_type": "error",
     "traceback": [
      "\u001b[1;36m  Input \u001b[1;32mIn [37]\u001b[1;36m\u001b[0m\n\u001b[1;33m    print mystring\u001b[0m\n\u001b[1;37m          ^\u001b[0m\n\u001b[1;31mSyntaxError\u001b[0m\u001b[1;31m:\u001b[0m Missing parentheses in call to 'print'. Did you mean print(mystring)?\n"
     ]
    }
   ],
   "source": [
    "print mystring"
   ]
  },
  {
   "cell_type": "code",
   "execution_count": 38,
   "id": "accf2007",
   "metadata": {},
   "outputs": [
    {
     "name": "stdout",
     "output_type": "stream",
     "text": [
      "hellobob\n"
     ]
    }
   ],
   "source": [
    "print(mystring)"
   ]
  },
  {
   "cell_type": "code",
   "execution_count": 39,
   "id": "985f8ff7",
   "metadata": {},
   "outputs": [],
   "source": [
    "altstring = mystring[::2]"
   ]
  },
  {
   "cell_type": "code",
   "execution_count": 40,
   "id": "b3df210e",
   "metadata": {},
   "outputs": [
    {
     "name": "stdout",
     "output_type": "stream",
     "text": [
      "hloo\n"
     ]
    }
   ],
   "source": [
    "print(altstring)"
   ]
  },
  {
   "cell_type": "code",
   "execution_count": 41,
   "id": "ba49fe53",
   "metadata": {},
   "outputs": [],
   "source": [
    "altstring = mystring.replace(\" \", \"\")"
   ]
  },
  {
   "cell_type": "code",
   "execution_count": 42,
   "id": "59111a7c",
   "metadata": {},
   "outputs": [
    {
     "name": "stdout",
     "output_type": "stream",
     "text": [
      "hellobob\n"
     ]
    }
   ],
   "source": [
    "print(altstring)"
   ]
  },
  {
   "cell_type": "code",
   "execution_count": 43,
   "id": "bf9947a1",
   "metadata": {},
   "outputs": [
    {
     "name": "stdout",
     "output_type": "stream",
     "text": [
      "hloo\n"
     ]
    }
   ],
   "source": [
    "print(altstring[::2])"
   ]
  },
  {
   "cell_type": "code",
   "execution_count": null,
   "id": "e9b35b8a",
   "metadata": {},
   "outputs": [],
   "source": []
  }
 ],
 "metadata": {
  "kernelspec": {
   "display_name": "Python 3 (ipykernel)",
   "language": "python",
   "name": "python3"
  },
  "language_info": {
   "codemirror_mode": {
    "name": "ipython",
    "version": 3
   },
   "file_extension": ".py",
   "mimetype": "text/x-python",
   "name": "python",
   "nbconvert_exporter": "python",
   "pygments_lexer": "ipython3",
   "version": "3.9.12"
  }
 },
 "nbformat": 4,
 "nbformat_minor": 5
}
