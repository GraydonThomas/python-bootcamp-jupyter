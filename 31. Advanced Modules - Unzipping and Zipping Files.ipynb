{
 "cells": [
  {
   "cell_type": "code",
   "execution_count": 1,
   "id": "7988adf4",
   "metadata": {},
   "outputs": [],
   "source": [
    "f = open(\"fileone.txt\", \"w+\")\n",
    "f.write(\"ONE FILE\")\n",
    "f.close()"
   ]
  },
  {
   "cell_type": "code",
   "execution_count": 2,
   "id": "32ca6f15",
   "metadata": {},
   "outputs": [],
   "source": [
    "f = open(\"filetwo.txt\", \"w+\")\n",
    "f.write(\"TWO FILE\")\n",
    "f.close()"
   ]
  },
  {
   "cell_type": "code",
   "execution_count": 3,
   "id": "49030cf0",
   "metadata": {},
   "outputs": [],
   "source": [
    "import zipfile # built into python"
   ]
  },
  {
   "cell_type": "code",
   "execution_count": 4,
   "id": "fac8ab6e",
   "metadata": {},
   "outputs": [],
   "source": [
    "comp_file = zipfile.ZipFile(\"comp_file.zip\", \"w\")"
   ]
  },
  {
   "cell_type": "code",
   "execution_count": 5,
   "id": "b1042553",
   "metadata": {},
   "outputs": [],
   "source": [
    "comp_file.write(\"fileone.txt\", compress_type=zipfile.ZIP_DEFLATED)"
   ]
  },
  {
   "cell_type": "code",
   "execution_count": 6,
   "id": "cabbd1f5",
   "metadata": {},
   "outputs": [],
   "source": [
    "comp_file.write(\"filetwo.txt\", compress_type=zipfile.ZIP_DEFLATED)"
   ]
  },
  {
   "cell_type": "code",
   "execution_count": 7,
   "id": "23502415",
   "metadata": {},
   "outputs": [],
   "source": [
    "comp_file.close()"
   ]
  },
  {
   "cell_type": "code",
   "execution_count": 8,
   "id": "cfbc4c76",
   "metadata": {},
   "outputs": [],
   "source": [
    "zip_obj = zipfile.ZipFile(\"comp_file.zip\",\"r\")"
   ]
  },
  {
   "cell_type": "code",
   "execution_count": 9,
   "id": "894effc1",
   "metadata": {},
   "outputs": [],
   "source": [
    "zip_obj.extractall(\"extracted_content\")"
   ]
  },
  {
   "cell_type": "code",
   "execution_count": 12,
   "id": "23920bb4",
   "metadata": {},
   "outputs": [],
   "source": [
    "# shutil better for zipping/extracting entire folders"
   ]
  },
  {
   "cell_type": "code",
   "execution_count": 13,
   "id": "ef83e45a",
   "metadata": {},
   "outputs": [
    {
     "data": {
      "text/plain": [
       "'C:\\\\Users\\\\Graydon\\\\Python Workbook'"
      ]
     },
     "execution_count": 13,
     "metadata": {},
     "output_type": "execute_result"
    }
   ],
   "source": [
    "pwd"
   ]
  },
  {
   "cell_type": "code",
   "execution_count": 1,
   "id": "013a2a67",
   "metadata": {},
   "outputs": [],
   "source": [
    "import shutil"
   ]
  },
  {
   "cell_type": "code",
   "execution_count": 20,
   "id": "1533c548",
   "metadata": {},
   "outputs": [],
   "source": [
    "# zip"
   ]
  },
  {
   "cell_type": "code",
   "execution_count": 14,
   "id": "c7215266",
   "metadata": {},
   "outputs": [],
   "source": [
    "dir_to_zip = \"C:\\\\Users\\\\Graydon\\\\Python Workbook\\extracted_content\""
   ]
  },
  {
   "cell_type": "code",
   "execution_count": 16,
   "id": "645e2cd8",
   "metadata": {},
   "outputs": [],
   "source": [
    "output_filename = \"example\""
   ]
  },
  {
   "cell_type": "code",
   "execution_count": 17,
   "id": "402b64a3",
   "metadata": {},
   "outputs": [
    {
     "data": {
      "text/plain": [
       "'C:\\\\Users\\\\Graydon\\\\Python Workbook\\\\example.zip'"
      ]
     },
     "execution_count": 17,
     "metadata": {},
     "output_type": "execute_result"
    }
   ],
   "source": [
    "shutil.make_archive(output_filename, \"zip\", dir_to_zip)"
   ]
  },
  {
   "cell_type": "code",
   "execution_count": 18,
   "id": "f905ea85",
   "metadata": {},
   "outputs": [],
   "source": [
    "# extract"
   ]
  },
  {
   "cell_type": "code",
   "execution_count": 21,
   "id": "39d83766",
   "metadata": {},
   "outputs": [],
   "source": [
    "shutil.unpack_archive(\"example.zip\", \"final_unzip\", \"zip\")"
   ]
  },
  {
   "cell_type": "code",
   "execution_count": null,
   "id": "4af53f65",
   "metadata": {},
   "outputs": [],
   "source": []
  }
 ],
 "metadata": {
  "kernelspec": {
   "display_name": "Python 3 (ipykernel)",
   "language": "python",
   "name": "python3"
  },
  "language_info": {
   "codemirror_mode": {
    "name": "ipython",
    "version": 3
   },
   "file_extension": ".py",
   "mimetype": "text/x-python",
   "name": "python",
   "nbconvert_exporter": "python",
   "pygments_lexer": "ipython3",
   "version": "3.9.12"
  }
 },
 "nbformat": 4,
 "nbformat_minor": 5
}
