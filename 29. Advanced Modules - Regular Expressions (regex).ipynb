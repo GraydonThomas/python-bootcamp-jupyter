{
 "cells": [
  {
   "cell_type": "code",
   "execution_count": 1,
   "id": "450bad1e",
   "metadata": {},
   "outputs": [],
   "source": [
    "# Regular Expressions Library is used to search for patterns within text"
   ]
  },
  {
   "cell_type": "code",
   "execution_count": 2,
   "id": "2662936b",
   "metadata": {},
   "outputs": [],
   "source": [
    "# Regular Expressions can use a specific string, but also a pattern code"
   ]
  },
  {
   "cell_type": "code",
   "execution_count": 2,
   "id": "63f2f61d",
   "metadata": {},
   "outputs": [],
   "source": [
    "text = \"The agent's phone number is 408-555-1234. Call soon!\""
   ]
  },
  {
   "cell_type": "code",
   "execution_count": 3,
   "id": "db349572",
   "metadata": {},
   "outputs": [
    {
     "data": {
      "text/plain": [
       "True"
      ]
     },
     "execution_count": 3,
     "metadata": {},
     "output_type": "execute_result"
    }
   ],
   "source": [
    "\"phone\" in text"
   ]
  },
  {
   "cell_type": "code",
   "execution_count": 8,
   "id": "56c9a20c",
   "metadata": {},
   "outputs": [],
   "source": [
    "import re"
   ]
  },
  {
   "cell_type": "code",
   "execution_count": 8,
   "id": "a6105a42",
   "metadata": {},
   "outputs": [],
   "source": [
    "pattern = \"phone\""
   ]
  },
  {
   "cell_type": "code",
   "execution_count": 9,
   "id": "0141f1a6",
   "metadata": {},
   "outputs": [
    {
     "data": {
      "text/plain": [
       "<re.Match object; span=(12, 17), match='phone'>"
      ]
     },
     "execution_count": 9,
     "metadata": {},
     "output_type": "execute_result"
    }
   ],
   "source": [
    "re.search(pattern, text) #span displays where the pattern is found within the text"
   ]
  },
  {
   "cell_type": "code",
   "execution_count": 11,
   "id": "5eaa0f3e",
   "metadata": {},
   "outputs": [],
   "source": [
    "new_pattern = \"not in text\""
   ]
  },
  {
   "cell_type": "code",
   "execution_count": 13,
   "id": "1bcb6fa7",
   "metadata": {},
   "outputs": [],
   "source": [
    "re.search(new_pattern, text) # no output indicates not found"
   ]
  },
  {
   "cell_type": "code",
   "execution_count": 14,
   "id": "77750057",
   "metadata": {},
   "outputs": [],
   "source": [
    "match = re.search(pattern, text)"
   ]
  },
  {
   "cell_type": "code",
   "execution_count": 15,
   "id": "93c7d9d5",
   "metadata": {},
   "outputs": [
    {
     "data": {
      "text/plain": [
       "<re.Match object; span=(12, 17), match='phone'>"
      ]
     },
     "execution_count": 15,
     "metadata": {},
     "output_type": "execute_result"
    }
   ],
   "source": [
    "match"
   ]
  },
  {
   "cell_type": "code",
   "execution_count": 18,
   "id": "a41783ab",
   "metadata": {},
   "outputs": [
    {
     "data": {
      "text/plain": [
       "(12, 17)"
      ]
     },
     "execution_count": 18,
     "metadata": {},
     "output_type": "execute_result"
    }
   ],
   "source": [
    "match.span() # you are able to call specific data "
   ]
  },
  {
   "cell_type": "code",
   "execution_count": 17,
   "id": "1ba41496",
   "metadata": {},
   "outputs": [
    {
     "data": {
      "text/plain": [
       "12"
      ]
     },
     "execution_count": 17,
     "metadata": {},
     "output_type": "execute_result"
    }
   ],
   "source": [
    "match.start()"
   ]
  },
  {
   "cell_type": "code",
   "execution_count": 19,
   "id": "ec47748f",
   "metadata": {},
   "outputs": [
    {
     "data": {
      "text/plain": [
       "17"
      ]
     },
     "execution_count": 19,
     "metadata": {},
     "output_type": "execute_result"
    }
   ],
   "source": [
    "match.end()"
   ]
  },
  {
   "cell_type": "code",
   "execution_count": 20,
   "id": "6e21784f",
   "metadata": {},
   "outputs": [],
   "source": [
    "new_text = \"hello i am saying hello to you hello\""
   ]
  },
  {
   "cell_type": "code",
   "execution_count": 21,
   "id": "ab0eb86d",
   "metadata": {},
   "outputs": [],
   "source": [
    "match = re.search(\"hello\", new_text)"
   ]
  },
  {
   "cell_type": "code",
   "execution_count": 23,
   "id": "c84dd759",
   "metadata": {},
   "outputs": [
    {
     "data": {
      "text/plain": [
       "<re.Match object; span=(0, 5), match='hello'>"
      ]
     },
     "execution_count": 23,
     "metadata": {},
     "output_type": "execute_result"
    }
   ],
   "source": [
    "match # only returns the first match"
   ]
  },
  {
   "cell_type": "code",
   "execution_count": 24,
   "id": "fc6541b4",
   "metadata": {},
   "outputs": [],
   "source": [
    "matches = re.findall(\"hello\", new_text) # search for multiple matches"
   ]
  },
  {
   "cell_type": "code",
   "execution_count": 25,
   "id": "92e806e1",
   "metadata": {},
   "outputs": [
    {
     "data": {
      "text/plain": [
       "['hello', 'hello', 'hello']"
      ]
     },
     "execution_count": 25,
     "metadata": {},
     "output_type": "execute_result"
    }
   ],
   "source": [
    "matches"
   ]
  },
  {
   "cell_type": "code",
   "execution_count": 26,
   "id": "2208100a",
   "metadata": {},
   "outputs": [
    {
     "data": {
      "text/plain": [
       "3"
      ]
     },
     "execution_count": 26,
     "metadata": {},
     "output_type": "execute_result"
    }
   ],
   "source": [
    "len(matches)"
   ]
  },
  {
   "cell_type": "code",
   "execution_count": 32,
   "id": "3cab251d",
   "metadata": {},
   "outputs": [
    {
     "name": "stdout",
     "output_type": "stream",
     "text": [
      "<re.Match object; span=(0, 5), match='hello'>\n",
      "(0, 5)\n",
      "hello\n",
      "<re.Match object; span=(18, 23), match='hello'>\n",
      "(18, 23)\n",
      "hello\n",
      "<re.Match object; span=(31, 36), match='hello'>\n",
      "(31, 36)\n",
      "hello\n"
     ]
    }
   ],
   "source": [
    "for match in re.finditer(\"hello\", new_text): # iterate through found matches\n",
    "    print(match)\n",
    "    print(match.span())\n",
    "    print(match.group())"
   ]
  },
  {
   "cell_type": "code",
   "execution_count": 12,
   "id": "dfc36830",
   "metadata": {},
   "outputs": [],
   "source": [
    "# Regular Expression Patterns & Quantifiers"
   ]
  },
  {
   "cell_type": "code",
   "execution_count": 13,
   "id": "1c8365ab",
   "metadata": {},
   "outputs": [],
   "source": [
    "# Patterns\n",
    "\n",
    "# \\d -- Digit               -- file_\\d\\d -- file_25\n",
    "# \\w -- Alphanumeric        -- \\w-\\w\\w\\w -- A-b_1\n",
    "# \\s -- White space         -- \\a\\sb\\sc  -- a b c\n",
    "# \\D -- Non-digit           -- \\D\\D\\D    -- ABC\n",
    "# \\W -- Non-alphanumeric    -- \\W\\W\\W\\W  -- *-+=\n",
    "# \\S -- Non-whitespace      -- \\S\\S\\S\\S  -- Yoyo\n",
    "\n",
    "\n",
    "# Quantifiers\n",
    "\n",
    "# +     -- Occurs one or more times     -- Version \\w-\\w+  --  Version A-b1_1 \n",
    "# {3}   -- Occurs exactly 3 times       -- \\D{3}           --  abc\n",
    "# {2,4} -- Occurs 2-4 times             -- \\d{2,4}         --  123\n",
    "# {3,}  -- Occurs 3 or more times       -- \\w{3,}          --  anycharacters\n",
    "# *     -- Occurs zero or more times    -- ABC*            --  AAACC\n",
    "# ?     -- Occurs once or never         -- plurals?        --  plural\n"
   ]
  },
  {
   "cell_type": "code",
   "execution_count": 6,
   "id": "3c02910e",
   "metadata": {},
   "outputs": [],
   "source": [
    "phone_number = \"My phone number is 408-555-1234\""
   ]
  },
  {
   "cell_type": "code",
   "execution_count": 9,
   "id": "6c4d26a2",
   "metadata": {},
   "outputs": [],
   "source": [
    "phone = re.search(r\"\\d\\d\\d-\\d\\d\\d-\\d\\d\\d\\d\", phone_number)"
   ]
  },
  {
   "cell_type": "code",
   "execution_count": 10,
   "id": "5770b4b0",
   "metadata": {},
   "outputs": [
    {
     "data": {
      "text/plain": [
       "<re.Match object; span=(19, 31), match='408-555-1234'>"
      ]
     },
     "execution_count": 10,
     "metadata": {},
     "output_type": "execute_result"
    }
   ],
   "source": [
    "phone"
   ]
  },
  {
   "cell_type": "code",
   "execution_count": 11,
   "id": "157af30a",
   "metadata": {},
   "outputs": [
    {
     "data": {
      "text/plain": [
       "'408-555-1234'"
      ]
     },
     "execution_count": 11,
     "metadata": {},
     "output_type": "execute_result"
    }
   ],
   "source": [
    "phone.group()"
   ]
  },
  {
   "cell_type": "code",
   "execution_count": 15,
   "id": "75ec5d01",
   "metadata": {},
   "outputs": [],
   "source": [
    "phone = re.search(r\"\\d{3}-\\d{3}-\\d{4}\", phone_number)"
   ]
  },
  {
   "cell_type": "code",
   "execution_count": 16,
   "id": "2a9192c8",
   "metadata": {},
   "outputs": [
    {
     "data": {
      "text/plain": [
       "<re.Match object; span=(19, 31), match='408-555-1234'>"
      ]
     },
     "execution_count": 16,
     "metadata": {},
     "output_type": "execute_result"
    }
   ],
   "source": [
    "phone"
   ]
  },
  {
   "cell_type": "code",
   "execution_count": 17,
   "id": "483c4791",
   "metadata": {},
   "outputs": [],
   "source": [
    "phone_pattern = re.compile(r\"(\\d{3})-(\\d{3})-(\\d{4})\") # create a single expression to represent a regular expression group"
   ]
  },
  {
   "cell_type": "code",
   "execution_count": 18,
   "id": "2ab3581d",
   "metadata": {},
   "outputs": [],
   "source": [
    "results = re.search(phone_pattern, phone_number)"
   ]
  },
  {
   "cell_type": "code",
   "execution_count": 19,
   "id": "b2f919ca",
   "metadata": {},
   "outputs": [
    {
     "data": {
      "text/plain": [
       "'408-555-1234'"
      ]
     },
     "execution_count": 19,
     "metadata": {},
     "output_type": "execute_result"
    }
   ],
   "source": [
    "results.group()"
   ]
  },
  {
   "cell_type": "code",
   "execution_count": 20,
   "id": "56164d24",
   "metadata": {},
   "outputs": [
    {
     "data": {
      "text/plain": [
       "'408'"
      ]
     },
     "execution_count": 20,
     "metadata": {},
     "output_type": "execute_result"
    }
   ],
   "source": [
    "results.group(1)"
   ]
  },
  {
   "cell_type": "code",
   "execution_count": 74,
   "id": "81344ca2",
   "metadata": {},
   "outputs": [],
   "source": [
    "# Additional Regex Syntax\n",
    "\n",
    "# IMPORTANT regarding \"^\":\n",
    "\n",
    "# [^abc] -> not a, b or c\n",
    "# [ab^cd] -> a, b, ^ (character), c or d\n",
    "# \\^ -> a ^ character\n",
    "# Anywhere else -> start of string / line."
   ]
  },
  {
   "cell_type": "code",
   "execution_count": 25,
   "id": "989c55fe",
   "metadata": {},
   "outputs": [
    {
     "data": {
      "text/plain": [
       "<re.Match object; span=(4, 7), match='cat'>"
      ]
     },
     "execution_count": 25,
     "metadata": {},
     "output_type": "execute_result"
    }
   ],
   "source": [
    "re.search(r\"cat|dog\", \"The cat is here\") # \"or\" operator"
   ]
  },
  {
   "cell_type": "code",
   "execution_count": 24,
   "id": "a0417b0f",
   "metadata": {},
   "outputs": [
    {
     "data": {
      "text/plain": [
       "<re.Match object; span=(4, 7), match='dog'>"
      ]
     },
     "execution_count": 24,
     "metadata": {},
     "output_type": "execute_result"
    }
   ],
   "source": [
    "re.search(r\"cat|dog\", \"The dog is here\")"
   ]
  },
  {
   "cell_type": "code",
   "execution_count": 31,
   "id": "0803e17a",
   "metadata": {},
   "outputs": [
    {
     "data": {
      "text/plain": [
       "['cat', 'hat', 'sat']"
      ]
     },
     "execution_count": 31,
     "metadata": {},
     "output_type": "execute_result"
    }
   ],
   "source": [
    "re.findall(r\".at\", \"The cat in the hat just sat there.\") # \".\" wildcard operator"
   ]
  },
  {
   "cell_type": "code",
   "execution_count": 33,
   "id": "8685c19d",
   "metadata": {},
   "outputs": [
    {
     "data": {
      "text/plain": [
       "['1']"
      ]
     },
     "execution_count": 33,
     "metadata": {},
     "output_type": "execute_result"
    }
   ],
   "source": [
    "re.findall(r\"^\\d\", \"1 is a number.\") # \"^\" operator searches for an entire string starting with a specific pattern\n",
    "\n",
    "# If the entire string does NOT start with said pattern, it will not return anything"
   ]
  },
  {
   "cell_type": "code",
   "execution_count": 35,
   "id": "b99159ea",
   "metadata": {},
   "outputs": [
    {
     "data": {
      "text/plain": [
       "['2']"
      ]
     },
     "execution_count": 35,
     "metadata": {},
     "output_type": "execute_result"
    }
   ],
   "source": [
    "re.findall(r\"\\d$\", \"The number is 2\") # \"$\" operator searches for a string that ends with a specific pattern"
   ]
  },
  {
   "cell_type": "code",
   "execution_count": 58,
   "id": "bffe65b5",
   "metadata": {},
   "outputs": [],
   "source": [
    "# Group for EXCLUSION"
   ]
  },
  {
   "cell_type": "code",
   "execution_count": 37,
   "id": "12313a3c",
   "metadata": {},
   "outputs": [],
   "source": [
    "phrase = \"there are 3 numbers 34 inside 5 this sentence\""
   ]
  },
  {
   "cell_type": "code",
   "execution_count": 59,
   "id": "a6185477",
   "metadata": {},
   "outputs": [],
   "source": [
    "pattern = r\"[^\\d]+\"  # [] group for exclusion everything within the square brackets"
   ]
  },
  {
   "cell_type": "code",
   "execution_count": 52,
   "id": "5cf819eb",
   "metadata": {},
   "outputs": [
    {
     "data": {
      "text/plain": [
       "['there are ', ' numbers ', ' inside ', ' this sentence']"
      ]
     },
     "execution_count": 52,
     "metadata": {},
     "output_type": "execute_result"
    }
   ],
   "source": [
    "re.findall(pattern,phrase)"
   ]
  },
  {
   "cell_type": "code",
   "execution_count": 42,
   "id": "2a1a0fe6",
   "metadata": {},
   "outputs": [],
   "source": [
    "test_phrase = \"This is a string! But it has punctuation. How can we remove it?\""
   ]
  },
  {
   "cell_type": "code",
   "execution_count": 67,
   "id": "e754921b",
   "metadata": {},
   "outputs": [],
   "source": [
    "clean = re.findall(r\"[^!.? ]+\", test_phrase) \n",
    "# find everything in a string and exclude punctuation, \"+\" signifying repeating punctuation"
   ]
  },
  {
   "cell_type": "code",
   "execution_count": 68,
   "id": "cec9b90e",
   "metadata": {},
   "outputs": [
    {
     "data": {
      "text/plain": [
       "['This',\n",
       " 'is',\n",
       " 'a',\n",
       " 'string',\n",
       " 'But',\n",
       " 'it',\n",
       " 'has',\n",
       " 'punctuation',\n",
       " 'How',\n",
       " 'can',\n",
       " 'we',\n",
       " 'remove',\n",
       " 'it']"
      ]
     },
     "execution_count": 68,
     "metadata": {},
     "output_type": "execute_result"
    }
   ],
   "source": [
    "clean"
   ]
  },
  {
   "cell_type": "code",
   "execution_count": 55,
   "id": "b438d4f1",
   "metadata": {},
   "outputs": [
    {
     "data": {
      "text/plain": [
       "'this is a string but it has punctuation how can we remove it'"
      ]
     },
     "execution_count": 55,
     "metadata": {},
     "output_type": "execute_result"
    }
   ],
   "source": [
    "\" \".join(clean).lower()\n",
    "# clean out the punctuation and then join the sentence"
   ]
  },
  {
   "cell_type": "code",
   "execution_count": 57,
   "id": "3f731489",
   "metadata": {},
   "outputs": [],
   "source": [
    "# Group for INCLUSION"
   ]
  },
  {
   "cell_type": "code",
   "execution_count": 60,
   "id": "fb461ee9",
   "metadata": {},
   "outputs": [],
   "source": [
    "text = \"Only find the hyphen-words in this sentence. But you do not know how long-ish they are\""
   ]
  },
  {
   "cell_type": "code",
   "execution_count": 65,
   "id": "41071120",
   "metadata": {},
   "outputs": [],
   "source": [
    "pattern = r\"[\\w]+-[\\w]+\""
   ]
  },
  {
   "cell_type": "code",
   "execution_count": 66,
   "id": "33d0861f",
   "metadata": {},
   "outputs": [
    {
     "data": {
      "text/plain": [
       "['hyphen-words', 'long-ish']"
      ]
     },
     "execution_count": 66,
     "metadata": {},
     "output_type": "execute_result"
    }
   ],
   "source": [
    "re.findall(pattern,text)"
   ]
  },
  {
   "cell_type": "code",
   "execution_count": 69,
   "id": "579dc80e",
   "metadata": {},
   "outputs": [],
   "source": [
    "# Find words that start with cat and end with one of these options: 'fish','nap', or 'claw'\n",
    "text = 'Hello, would you like some catfish?'\n",
    "texttwo = \"Hello, would you like to take a catnap?\"\n",
    "textthree = \"Hello, have you seen this caterpillar?\""
   ]
  },
  {
   "cell_type": "code",
   "execution_count": 70,
   "id": "95acd64c",
   "metadata": {},
   "outputs": [
    {
     "data": {
      "text/plain": [
       "<re.Match object; span=(27, 34), match='catfish'>"
      ]
     },
     "execution_count": 70,
     "metadata": {},
     "output_type": "execute_result"
    }
   ],
   "source": [
    "re.search(r\"cat(fish|nap|claw)\", text)"
   ]
  },
  {
   "cell_type": "code",
   "execution_count": 71,
   "id": "a717a97d",
   "metadata": {},
   "outputs": [
    {
     "data": {
      "text/plain": [
       "<re.Match object; span=(32, 38), match='catnap'>"
      ]
     },
     "execution_count": 71,
     "metadata": {},
     "output_type": "execute_result"
    }
   ],
   "source": [
    "re.search(r\"cat(fish|nap|claw)\", texttwo)"
   ]
  },
  {
   "cell_type": "code",
   "execution_count": 73,
   "id": "b80ce55d",
   "metadata": {},
   "outputs": [
    {
     "data": {
      "text/plain": [
       "<re.Match object; span=(26, 37), match='caterpillar'>"
      ]
     },
     "execution_count": 73,
     "metadata": {},
     "output_type": "execute_result"
    }
   ],
   "source": [
    "re.search(r\"cat(fish|nap|erpillar)\", textthree)"
   ]
  },
  {
   "cell_type": "code",
   "execution_count": null,
   "id": "1915b00f",
   "metadata": {},
   "outputs": [],
   "source": []
  }
 ],
 "metadata": {
  "kernelspec": {
   "display_name": "Python 3 (ipykernel)",
   "language": "python",
   "name": "python3"
  },
  "language_info": {
   "codemirror_mode": {
    "name": "ipython",
    "version": 3
   },
   "file_extension": ".py",
   "mimetype": "text/x-python",
   "name": "python",
   "nbconvert_exporter": "python",
   "pygments_lexer": "ipython3",
   "version": "3.9.12"
  }
 },
 "nbformat": 4,
 "nbformat_minor": 5
}
